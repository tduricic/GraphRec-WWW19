{
 "cells": [
  {
   "cell_type": "code",
   "execution_count": 1,
   "metadata": {
    "collapsed": true
   },
   "outputs": [],
   "source": [
    "import networkx as nx\n",
    "import os\n",
    "import pandas as pd"
   ]
  },
  {
   "cell_type": "code",
   "execution_count": 2,
   "outputs": [
    {
     "data": {
      "text/plain": "'/home/tduricic/Development/workspace/GraphRec_PyTorch-myfork/GraphRec_PyTorch/notebooks'"
     },
     "execution_count": 2,
     "metadata": {},
     "output_type": "execute_result"
    }
   ],
   "source": [
    "os.getcwd()"
   ],
   "metadata": {
    "collapsed": false,
    "pycharm": {
     "name": "#%%\n"
    }
   }
  },
  {
   "cell_type": "code",
   "execution_count": 3,
   "outputs": [],
   "source": [
    "def create_dataframes(dataset):\n",
    "    if dataset == 'epinions':\n",
    "        user_item_ratings_df = pd.read_csv('../data/' + dataset + '/processed/ratings.tsv', sep='\\t', names=['user_id', 'item_id', 'rating'])\n",
    "        social_connections_df = pd.read_csv('../data/' + dataset + '/processed/social_connections.tsv', sep='\\t', names=['user1_id', 'user2_id'])\n",
    "    elif dataset == 'ciao':\n",
    "        user_item_ratings_df = pd.read_csv('../data/' + dataset + '/processed/ratings.tsv', sep='\\t', names=['user_id', 'item_id', 'rating', 'timestamp'])\n",
    "        social_connections_df = pd.read_csv('../data/' + dataset + '/processed/social_connections.tsv', sep='\\t', names=['user1_id', 'user2_id', 'weight'])\n",
    "    elif dataset == 'lastfm':\n",
    "        user_item_ratings_df = pd.read_csv('../data/' + dataset + '/processed/ratings.tsv', sep='\\t', names=['user_id', 'item_id', 'rating'])\n",
    "        social_connections_df = pd.read_csv('../data/' + dataset + '/processed/social_connections.tsv', sep='\\t', names=['user1_id', 'user2_id', 'weight'])\n",
    "    elif dataset == 'Douban (Movies)':\n",
    "        user_item_ratings_df = pd.read_csv('../data/douban/processed/movie_ratings.tsv', sep='\\t', names=['user_id', 'item_id', 'rating', 'timestamp'])\n",
    "        social_connections_df = pd.read_csv('../data/douban/processed/social_connections.tsv', sep='\\t', names=['user1_id', 'user2_id', 'weight'])\n",
    "    elif dataset == 'Douban (Books)':\n",
    "        user_item_ratings_df = pd.read_csv('../data/douban/processed/book_ratings.tsv', sep='\\t', names=['user_id', 'item_id', 'rating', 'timestamp'])\n",
    "        social_connections_df = pd.read_csv('../data/douban/processed/social_connections.tsv', sep='\\t', names=['user1_id', 'user2_id', 'weight'])\n",
    "    elif dataset == 'Douban (Music)':\n",
    "        user_item_ratings_df = pd.read_csv('../data/douban/processed/music_ratings.tsv', sep='\\t', names=['user_id', 'item_id', 'rating', 'timestamp'])\n",
    "        social_connections_df = pd.read_csv('../data/douban/processed/social_connections.tsv', sep='\\t', names=['user1_id', 'user2_id', 'weight'])\n",
    "    elif dataset == 'toy_dataset':\n",
    "        user_item_ratings_df = pd.read_csv('../data/ratings.tsv', sep='\\t', names=['user_id', 'item_id', 'rating'])\n",
    "        social_connections_df = pd.read_csv('../data/social_connections.tsv', sep='\\t', names=['user1_id', 'user2_id', 'weight'])\n",
    "    return user_item_ratings_df, social_connections_df\n",
    "\n",
    "def get_dataset_statistics(dataset):\n",
    "    user_item_ratings_df, social_connections_df = create_dataframes(dataset)\n",
    "    num_users = len(set(user_item_ratings_df.user_id))\n",
    "    num_items_incl_sc = len(set(user_item_ratings_df.user_id) | set(social_connections_df.user1_id) | set(social_connections_df.user2_id))\n",
    "    num_items = len(set(user_item_ratings_df.item_id))\n",
    "    num_ratings = len(user_item_ratings_df)\n",
    "    num_social_connections = len(social_connections_df)\n",
    "    rating_density = num_ratings/(num_users*num_items)\n",
    "    social_connection_density = num_social_connections/((num_users*num_users)/2)\n",
    "    print(user_item_ratings_df.rating.unique())\n",
    "    return (num_users, num_items_incl_sc, num_ratings, num_social_connections, rating_density, social_connection_density)"
   ],
   "metadata": {
    "collapsed": false,
    "pycharm": {
     "name": "#%%\n"
    }
   }
  },
  {
   "cell_type": "code",
   "execution_count": 4,
   "outputs": [
    {
     "name": "stdout",
     "output_type": "stream",
     "text": [
      "[2 1 3 4 0]\n",
      "(705, 705, 17824, 1126, 0.013025383566999536, 0.004530959207283336)\n"
     ]
    }
   ],
   "source": [
    "# print(get_dataset_statistics('epinions'))\n",
    "# print(get_dataset_statistics('ciao'))\n",
    "# print(get_dataset_statistics('lastfm'))\n",
    "# print(get_dataset_statistics('Douban (Movies)'))\n",
    "# print(get_dataset_statistics('Douban (Books)'))\n",
    "# print(get_dataset_statistics('Douban (Music)'))\n",
    "print(get_dataset_statistics('toy_dataset'))"
   ],
   "metadata": {
    "collapsed": false,
    "pycharm": {
     "name": "#%%\n"
    }
   }
  },
  {
   "cell_type": "code",
   "execution_count": 5,
   "outputs": [],
   "source": [
    "def get_num_users_with_more_than_k_ratings(dataset_name, k):\n",
    "    user_item_ratings_df, _ = create_dataframes(dataset_name)\n",
    "    user_rating_counts = user_item_ratings_df.groupby(['user_id']).size().reset_index(name='counts')\n",
    "    users_with_more_than_k_ratings = len(user_rating_counts[user_rating_counts.counts>k])\n",
    "    percentage_of_total_users = round(100*users_with_more_than_k_ratings/len(user_item_ratings_df.user_id.unique()), 2)\n",
    "    percentage_of_total_ratings = round(100*users_with_more_than_k_ratings*k/len(user_item_ratings_df), 2)\n",
    "    return (users_with_more_than_k_ratings, str(percentage_of_total_users) + '%', str(percentage_of_total_ratings) + '%')"
   ],
   "metadata": {
    "collapsed": false,
    "pycharm": {
     "name": "#%%\n"
    }
   }
  },
  {
   "cell_type": "code",
   "execution_count": 6,
   "outputs": [
    {
     "name": "stdout",
     "output_type": "stream",
     "text": [
      "toy_dataset users with more than 5 and 10 ratings, respectively: (572, '81.13%', '16.05%'), (476, '67.52%', '26.71%')\n"
     ]
    }
   ],
   "source": [
    "# dataset_name = 'epinions'\n",
    "# print(f'{dataset_name} users with more than 5 and 10 ratings, respectively: {get_num_users_with_more_than_k_ratings(dataset_name, 5)}, {get_num_users_with_more_than_k_ratings(dataset_name, 10)}')\n",
    "# dataset_name = 'ciao'\n",
    "# print(f'{dataset_name} users with more than 5 and 10 ratings, respectively: {get_num_users_with_more_than_k_ratings(dataset_name, 5)}, {get_num_users_with_more_than_k_ratings(dataset_name, 10)}')\n",
    "# dataset_name = 'lastfm'\n",
    "# print(f'{dataset_name} users with more than 5 and 10 ratings, respectively: {get_num_users_with_more_than_k_ratings(dataset_name, 5)}, {get_num_users_with_more_than_k_ratings(dataset_name, 10)}')\n",
    "# dataset_name = 'Douban (Movies)'\n",
    "# print(f'{dataset_name} users with more than 5 and 10 ratings, respectively: {get_num_users_with_more_than_k_ratings(dataset_name, 5)}, {get_num_users_with_more_than_k_ratings(dataset_name, 10)}')\n",
    "# dataset_name = 'Douban (Books)'\n",
    "# print(f'{dataset_name} users with more than 5 and 10 ratings, respectively: {get_num_users_with_more_than_k_ratings(dataset_name, 5)}, {get_num_users_with_more_than_k_ratings(dataset_name, 10)}')\n",
    "# dataset_name = 'Douban (Music)'\n",
    "# print(f'{dataset_name} users with more than 5 and 10 ratings, respectively: {get_num_users_with_more_than_k_ratings(dataset_name, 5)}, {get_num_users_with_more_than_k_ratings(dataset_name, 10)}')\n",
    "dataset_name = 'toy_dataset'\n",
    "print(f'{dataset_name} users with more than 5 and 10 ratings, respectively: {get_num_users_with_more_than_k_ratings(dataset_name, 5)}, {get_num_users_with_more_than_k_ratings(dataset_name, 10)}')"
   ],
   "metadata": {
    "collapsed": false,
    "pycharm": {
     "name": "#%%\n"
    }
   }
  },
  {
   "cell_type": "code",
   "execution_count": null,
   "outputs": [],
   "source": [],
   "metadata": {
    "collapsed": false,
    "pycharm": {
     "name": "#%%\n"
    }
   }
  }
 ],
 "metadata": {
  "kernelspec": {
   "display_name": "Python 3",
   "language": "python",
   "name": "python3"
  },
  "language_info": {
   "codemirror_mode": {
    "name": "ipython",
    "version": 2
   },
   "file_extension": ".py",
   "mimetype": "text/x-python",
   "name": "python",
   "nbconvert_exporter": "python",
   "pygments_lexer": "ipython2",
   "version": "2.7.6"
  }
 },
 "nbformat": 4,
 "nbformat_minor": 0
}