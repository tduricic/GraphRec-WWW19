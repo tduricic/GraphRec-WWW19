{
 "cells": [
  {
   "cell_type": "code",
   "execution_count": 3,
   "outputs": [],
   "source": [
    "import os\n",
    "import networkx as nx\n",
    "from networkx.algorithms import bipartite\n",
    "import community as community_louvain\n",
    "import matplotlib.pyplot as plt\n",
    "%matplotlib inline\n",
    "import seaborn as sns\n",
    "plt.style.use('seaborn')\n",
    "sns.set_style('whitegrid')\n",
    "import pandas as pd\n",
    "import numpy as np"
   ],
   "metadata": {
    "collapsed": false,
    "pycharm": {
     "name": "#%%\n"
    }
   }
  },
  {
   "cell_type": "code",
   "execution_count": 31,
   "outputs": [
    {
     "data": {
      "text/plain": "'/home/tduricic/Development/workspace/elliot/notebooks'"
     },
     "execution_count": 31,
     "metadata": {},
     "output_type": "execute_result"
    }
   ],
   "source": [
    "os.getcwd()"
   ],
   "metadata": {
    "collapsed": false,
    "pycharm": {
     "name": "#%%\n"
    }
   }
  },
  {
   "cell_type": "code",
   "execution_count": 8,
   "outputs": [],
   "source": [
    "filmtrust_ratings_filename = '../data/filmtrust/processed/ratings.tsv'\n",
    "def create_ratings_bipartite_graph(filename):\n",
    "    users = set()\n",
    "    items = set()\n",
    "    user_items_dict = {}\n",
    "    edges = []\n",
    "    with open(filename) as fr:\n",
    "        for line in fr.readlines():\n",
    "            tokens = line.split()\n",
    "            userId = tokens[0]\n",
    "            itemId = tokens[1]\n",
    "            # For now we omit the weight\n",
    "            # rating = float(tokens[2])\n",
    "\n",
    "            users.add(userId)\n",
    "            items.add(itemId)\n",
    "            edges.append((userId, itemId))\n",
    "            if userId not in user_items_dict:\n",
    "                user_items_dict[userId] = []\n",
    "                user_items_dict[userId].append(itemId)\n",
    "            else:\n",
    "                user_items_dict[userId].append(itemId)\n",
    "    B = nx.Graph()\n",
    "    B.add_nodes_from(users, bipartite=0)\n",
    "    B.add_nodes_from(items, bipartite=1)\n",
    "    B.add_edges_from(edges)\n",
    "\n",
    "    return B, user_items_dict, users, items"
   ],
   "metadata": {
    "collapsed": false,
    "pycharm": {
     "name": "#%%\n"
    }
   }
  },
  {
   "cell_type": "code",
   "execution_count": 9,
   "outputs": [],
   "source": [
    "B, user_items_dict, users, items = create_ratings_bipartite_graph(filmtrust_ratings_filename)"
   ],
   "metadata": {
    "collapsed": false,
    "pycharm": {
     "name": "#%%\n"
    }
   }
  },
  {
   "cell_type": "code",
   "execution_count": 10,
   "outputs": [],
   "source": [
    "projected_G = bipartite.projected_graph(B, items)"
   ],
   "metadata": {
    "collapsed": false,
    "pycharm": {
     "name": "#%%\n"
    }
   }
  },
  {
   "cell_type": "code",
   "execution_count": 11,
   "outputs": [],
   "source": [
    "partition = community_louvain.best_partition(projected_G)"
   ],
   "metadata": {
    "collapsed": false,
    "pycharm": {
     "name": "#%%\n"
    }
   }
  },
  {
   "cell_type": "code",
   "execution_count": 7,
   "outputs": [
    {
     "data": {
      "text/plain": "{'8020': 0,\n '15699': 0,\n '4909': 1,\n '6145': 1,\n '4745': 3,\n '1778': 0,\n '3306': 0,\n '1003': 3,\n '3059': 1,\n '6003': 3,\n '16109': 0,\n '5723': 0,\n '10368': 3,\n '9433': 0,\n '15736': 4,\n '10604': 0,\n '15220': 9,\n '5386': 9,\n '4440': 0,\n '14503': 0,\n '15022': 0,\n '7733': 0,\n '11713': 3,\n '6018': 1,\n '7687': 3,\n '8283': 3,\n '10767': 0,\n '2026': 0,\n '12142': 3,\n '11737': 0,\n '6935': 0,\n '14367': 0,\n '6699': 0,\n '6578': 6,\n '15598': 7,\n '7313': 7,\n '5650': 0,\n '13621': 7,\n '3816': 3,\n '538': 3,\n '4525': 7,\n '5749': 3,\n '5888': 3,\n '3339': 3,\n '7127': 0,\n '7368': 6,\n '2414': 6,\n '13434': 0,\n '10160': 3,\n '14164': 7,\n '3363': 0,\n '6732': 0,\n '2095': 0,\n '5920': 4,\n '12920': 0,\n '14572': 5,\n '15599': 0,\n '8325': 9,\n '5201': 10,\n '8906': 9,\n '14548': 11,\n '11998': 0,\n '13659': 0,\n '12085': 0,\n '11262': 3,\n '3249': 0,\n '15408': 6,\n '7150': 6,\n '5490': 0,\n '10192': 0,\n '1907': 0,\n '6264': 3,\n '7757': 0,\n '1740': 0,\n '8434': 6,\n '9519': 1,\n '11100': 11,\n '4742': 1,\n '13658': 0,\n '15730': 3,\n '3055': 0,\n '14413': 9,\n '2972': 7,\n '2924': 5,\n '7797': 0,\n '11005': 0,\n '15136': 1,\n '11531': 3,\n '1443': 0,\n '4491': 0,\n '10216': 0,\n '1756': 0,\n '2547': 3,\n '7473': 0,\n '2669': 7,\n '5167': 0,\n '9398': 7,\n '15166': 3,\n '1283': 0,\n '4387': 1,\n '11902': 3,\n '13560': 7,\n '6207': 0,\n '3514': 0,\n '9277': 1,\n '13231': 1,\n '11362': 3,\n '9694': 7,\n '15397': 0,\n '6929': 1,\n '10647': 11,\n '10537': 0,\n '10674': 5,\n '12154': 0,\n '849': 3,\n '14813': 3,\n '1006': 6,\n '3755': 3,\n '15970': 4,\n '354': 7,\n '7449': 0,\n '8737': 7,\n '9181': 3,\n '10318': 0,\n '5186': 0,\n '3164': 0,\n '8384': 3,\n '1230': 0,\n '9861': 0,\n '12120': 0,\n '4408': 5,\n '12403': 0,\n '4040': 3,\n '6606': 0,\n '12616': 0,\n '1924': 0,\n '7269': 0,\n '14834': 3,\n '9508': 1,\n '2125': 0,\n '6297': 9,\n '14551': 0,\n '15755': 6,\n '10135': 0,\n '11881': 3,\n '7562': 1,\n '7530': 0,\n '11916': 1,\n '6730': 0,\n '5764': 4,\n '8640': 5,\n '4348': 1,\n '318': 3,\n '12083': 0,\n '1708': 0,\n '12476': 7,\n '8023': 0,\n '8993': 9,\n '4698': 1,\n '3170': 0,\n '13233': 0,\n '11640': 3,\n '6260': 0,\n '12249': 0,\n '2717': 0,\n '12824': 0,\n '6995': 0,\n '5218': 10,\n '4965': 8,\n '4463': 0,\n '7372': 0,\n '1465': 0,\n '14982': 0,\n '1260': 0,\n '4210': 8,\n '278': 0,\n '43': 0,\n '8212': 3,\n '8548': 6,\n '9212': 3,\n '6601': 1,\n '9773': 0,\n '14910': 9,\n '2957': 7,\n '1894': 0,\n '7476': 0,\n '14098': 10,\n '3701': 3,\n '2289': 0,\n '10177': 3,\n '12925': 0,\n '8656': 0,\n '3823': 2,\n '13644': 6,\n '7448': 0,\n '9909': 0,\n '9515': 1,\n '12303': 0,\n '5895': 10,\n '6526': 0,\n '7115': 1,\n '10422': 0,\n '14129': 0,\n '6847': 0,\n '10874': 0,\n '11894': 0,\n '4403': 0,\n '11470': 0,\n '5174': 0,\n '13333': 7,\n '7779': 0,\n '2817': 0,\n '15743': 5,\n '1381': 1,\n '8534': 3,\n '9161': 7,\n '933': 3,\n '4792': 6,\n '10084': 8,\n '4790': 7,\n '7026': 1,\n '2081': 0,\n '7800': 0,\n '3531': 1,\n '13715': 5,\n '9294': 6,\n '2754': 5,\n '8821': 3,\n '14220': 0,\n '14654': 3,\n '14694': 6,\n '16081': 4,\n '9831': 9,\n '6574': 0,\n '15767': 5,\n '8852': 7,\n '9926': 7,\n '11584': 9,\n '7006': 0,\n '1422': 4,\n '13887': 0,\n '12363': 0,\n '3480': 0,\n '2159': 8,\n '15383': 9,\n '12680': 3,\n '2239': 0,\n '6477': 0,\n '11004': 0,\n '124': 3,\n '6048': 0,\n '15441': 0,\n '8324': 9,\n '4161': 0,\n '10939': 0,\n '15247': 0,\n '11963': 1,\n '14123': 9,\n '4438': 0,\n '7973': 4,\n '5150': 7,\n '6906': 0,\n '690': 3,\n '3383': 0,\n '3595': 0,\n '4277': 0,\n '15617': 5,\n '16101': 7,\n '11072': 0,\n '12979': 0,\n '9677': 3,\n '948': 9,\n '7293': 7,\n '11361': 3,\n '8719': 3,\n '16007': 1,\n '4194': 0,\n '10851': 0,\n '3041': 6,\n '9266': 9,\n '10173': 3,\n '2481': 0,\n '15457': 5,\n '8165': 3,\n '13325': 7,\n '15309': 6,\n '8074': 0,\n '12556': 0,\n '4584': 9,\n '1044': 3,\n '14847': 0,\n '3620': 3,\n '9108': 4,\n '13089': 0,\n '13350': 0,\n '5503': 9,\n '8669': 0,\n '7738': 1,\n '14938': 3,\n '9015': 7,\n '1691': 0,\n '5208': 0,\n '4036': 3,\n '1775': 0,\n '178': 0,\n '1505': 0,\n '2938': 1,\n '9530': 1,\n '1012': 6,\n '4419': 0,\n '7699': 0,\n '3578': 0,\n '9796': 0,\n '13795': 9,\n '10298': 3,\n '1752': 0,\n '13091': 0,\n '4572': 7,\n '12592': 0,\n '1574': 0,\n '11568': 0,\n '10512': 0,\n '11790': 3,\n '12507': 9,\n '4459': 0,\n '8475': 3,\n '14223': 7,\n '2369': 1,\n '9179': 7,\n '13174': 0,\n '7311': 3,\n '1587': 0,\n '4115': 0,\n '6424': 3,\n '6746': 0,\n '1176': 1,\n '1109': 4,\n '2366': 1,\n '3259': 1,\n '5727': 6,\n '8361': 3,\n '5024': 11,\n '5336': 0,\n '3956': 3,\n '6987': 0,\n '2203': 8,\n '8109': 3,\n '14639': 0,\n '13866': 3,\n '4070': 3,\n '5514': 0,\n '52': 0,\n '4882': 0,\n '1046': 6,\n '5755': 0,\n '9248': 3,\n '6572': 0,\n '3638': 3,\n '10056': 7,\n '8309': 3,\n '12061': 0,\n '14489': 0,\n '15089': 1,\n '16004': 6,\n '2458': 0,\n '3115': 0,\n '3399': 3,\n '8712': 7,\n '9825': 9,\n '802': 8,\n '1048': 5,\n '11238': 11,\n '9372': 1,\n '1446': 0,\n '7567': 0,\n '11968': 0,\n '10419': 0,\n '12337': 0,\n '11550': 3,\n '8005': 6,\n '10819': 0,\n '11217': 11,\n '11485': 3,\n '13935': 5,\n '1840': 0,\n '16080': 4,\n '14009': 6,\n '10045': 4,\n '13704': 0,\n '9350': 0,\n '5667': 7,\n '12760': 8,\n '8369': 3,\n '2184': 6,\n '5629': 1,\n '3366': 3,\n '4866': 0,\n '12968': 0,\n '7063': 6,\n '2893': 9,\n '8091': 2,\n '13737': 0,\n '15790': 0,\n '15533': 5,\n '879': 3,\n '1706': 6,\n '8510': 3,\n '3464': 0,\n '11585': 3,\n '5472': 0,\n '3902': 3,\n '6447': 0,\n '11567': 3,\n '1148': 3,\n '223': 0,\n '540': 3,\n '3089': 5,\n '8706': 3,\n '1219': 0,\n '613': 0,\n '1639': 0,\n '1607': 0,\n '1306': 0,\n '2534': 0,\n '4614': 0,\n '4662': 0,\n '10783': 0,\n '13722': 1,\n '15287': 9,\n '3085': 0,\n '6219': 0,\n '1479': 0,\n '4207': 7,\n '5250': 0,\n '6257': 0,\n '9283': 1,\n '14492': 0,\n '9729': 0,\n '1364': 0,\n '7296': 0,\n '6974': 1,\n '9379': 7,\n '11195': 11,\n '3960': 3,\n '11474': 3,\n '11122': 11,\n '12561': 3,\n '14040': 8,\n '5193': 0,\n '9551': 1,\n '4218': 3,\n '12214': 0,\n '9925': 3,\n '4185': 0,\n '12354': 0,\n '5322': 0,\n '9088': 3,\n '380': 3,\n '12133': 0,\n '3449': 0,\n '13926': 0,\n '14013': 6,\n '6450': 0,\n '13447': 1,\n '15585': 0,\n '2119': 0,\n '2251': 0,\n '9952': 3,\n '7928': 7,\n '12026': 0,\n '10546': 9,\n '5707': 4,\n '5851': 6,\n '9320': 7,\n '3225': 0,\n '5531': 7,\n '6552': 3,\n '1527': 0,\n '10375': 0,\n '11342': 0,\n '14162': 5,\n '1004': 6,\n '15972': 5,\n '12239': 0,\n '11791': 3,\n '2843': 3,\n '2054': 0,\n '323': 3,\n '12611': 0,\n '11521': 3,\n '1333': 0,\n '11112': 11,\n '13292': 0,\n '6237': 3,\n '190': 3,\n '14812': 3,\n '14582': 4,\n '9103': 3,\n '988': 0,\n '2311': 6,\n '14554': 0,\n '9716': 0,\n '1919': 0,\n '11947': 0,\n '14006': 6,\n '14777': 4,\n '2860': 5,\n '15317': 3,\n '11155': 11,\n '967': 0,\n '224': 3,\n '4053': 3,\n '9655': 0,\n '14421': 0,\n '12059': 1,\n '13797': 0,\n '15746': 0,\n '8512': 3,\n '9589': 5,\n '11600': 1,\n '12357': 1,\n '3139': 4,\n '6258': 0,\n '10109': 0,\n '14807': 4,\n '4926': 7,\n '10271': 0,\n '14684': 3,\n '6119': 0,\n '14378': 0,\n '4295': 0,\n '5850': 0,\n '9751': 7,\n '403': 6,\n '3102': 7,\n '4304': 0,\n '9737': 0,\n '1539': 0,\n '4310': 0,\n '10393': 3,\n '4255': 0,\n '14877': 0,\n '5805': 0,\n '7956': 6,\n '10428': 0,\n '8228': 3,\n '5793': 6,\n '2141': 8,\n '7027': 1,\n '310': 1,\n '13962': 0,\n '6348': 3,\n '14244': 6,\n '12664': 9,\n '13661': 0,\n '8558': 0,\n '1488': 0,\n '7487': 7,\n '14595': 0,\n '7639': 3,\n '996': 6,\n '1547': 0,\n '1310': 1,\n '11615': 8,\n '962': 3,\n '10136': 0,\n '12474': 0,\n '12467': 7,\n '12307': 0,\n '476': 0,\n '8883': 7,\n '7871': 0,\n '7591': 0,\n '10854': 11,\n '15985': 7,\n '3523': 0,\n '1166': 6,\n '7678': 0,\n '8073': 9,\n '11579': 0,\n '14287': 7,\n '515': 3,\n '321': 6,\n '2727': 0,\n '3356': 3,\n '12581': 11,\n '3203': 0,\n '7377': 1,\n '9531': 0,\n '12709': 0,\n '2833': 7,\n '8668': 0,\n '13220': 6,\n '9096': 7,\n '12341': 9,\n '10892': 0,\n '6213': 3,\n '13954': 7,\n '469': 3,\n '7167': 7,\n '12506': 0,\n '7380': 0,\n '8339': 3,\n '1633': 0,\n '3882': 7,\n '12320': 0,\n '1175': 0,\n '14519': 0,\n '14954': 3,\n '13602': 0,\n '940': 3,\n '14438': 4,\n '13920': 0,\n '2574': 0,\n '10141': 0,\n '12346': 0,\n '9683': 7,\n '7160': 0,\n '7123': 3,\n '8034': 0,\n '9340': 7,\n '13987': 0,\n '14900': 0,\n '11376': 0,\n '10472': 0,\n '5991': 10,\n '14144': 0,\n '9271': 9,\n '1795': 0,\n '2278': 0,\n '6597': 0,\n '4384': 0,\n '1112': 0,\n '5360': 3,\n '8772': 3,\n '9116': 7,\n '11041': 0,\n '12762': 0,\n '6845': 1,\n '6540': 3,\n '6166': 0,\n '5965': 0,\n '5836': 6,\n '12045': 3,\n '14392': 9,\n '4042': 3,\n '9726': 7,\n '11939': 1,\n '3269': 1,\n '6607': 1,\n '8210': 0,\n '12040': 4,\n '1955': 0,\n '4393': 0,\n '7159': 0,\n '2581': 3,\n '7721': 9,\n '6827': 0,\n '12394': 6,\n '6523': 0,\n '13098': 7,\n '14913': 0,\n '12355': 0,\n '10036': 0,\n '13932': 7,\n '6153': 3,\n '1782': 0,\n '4175': 0,\n '1517': 0,\n '4354': 7,\n '5346': 0,\n '15222': 6,\n '15815': 4,\n '875': 0,\n '252': 3,\n '2951': 9,\n '2787': 1,\n '3426': 3,\n '7203': 0,\n '7300': 7,\n '12172': 0,\n '13780': 1,\n '6201': 0,\n '11746': 3,\n '12753': 0,\n '5351': 0,\n '4227': 0,\n '217': 0,\n '4833': 0,\n '7198': 8,\n '11536': 3,\n '5398': 10,\n '108': 3,\n '8837': 3,\n '2031': 0,\n '3392': 3,\n '3526': 0,\n '4853': 8,\n '804': 0,\n '9994': 7,\n '1304': 0,\n '7569': 0,\n '10598': 0,\n '12013': 0,\n '4031': 3,\n '8626': 2,\n '6880': 0,\n '13451': 9,\n '450': 6,\n '15945': 4,\n '11449': 0,\n '3483': 0,\n '15286': 9,\n '1512': 0,\n '61': 0,\n '6717': 0,\n '4095': 3,\n '12135': 6,\n '542': 3,\n '10158': 3,\n '11930': 3,\n '10529': 0,\n '8294': 3,\n '7799': 0,\n '7599': 0,\n '4807': 1,\n '12928': 0,\n '2522': 0,\n '13266': 9,\n '9009': 4,\n '3293': 0,\n '4257': 3,\n '7039': 0,\n '10441': 0,\n '13099': 0,\n '5744': 6,\n '7444': 0,\n '3746': 3,\n '15935': 6,\n '5102': 7,\n '405': 0,\n '15934': 3,\n '1726': 0,\n '4601': 0,\n '5044': 6,\n '13046': 3,\n '5475': 10,\n '2340': 1,\n '2187': 8,\n '2093': 0,\n '3226': 0,\n '5420': 0,\n '4632': 1,\n '9180': 3,\n '9511': 0,\n '7888': 0,\n '14901': 0,\n '1245': 0,\n '2993': 9,\n '12684': 3,\n '3057': 0,\n '12798': 0,\n '6482': 0,\n '4444': 0,\n '12908': 2,\n '5183': 0,\n '9809': 7,\n '9931': 7,\n '10456': 0,\n '14958': 0,\n '11170': 11,\n '6474': 0,\n '8982': 6,\n '9503': 0,\n '4284': 0,\n '1628': 0,\n '3448': 0,\n '609': 7,\n '14625': 3,\n '4861': 3,\n '12893': 0,\n '6089': 1,\n '3995': 3,\n '9407': 7,\n '16083': 4,\n '2464': 0,\n '12058': 6,\n '10075': 6,\n '12628': 0,\n '986': 3,\n '3657': 3,\n '11740': 8,\n '1059': 0,\n '15064': 3,\n '3316': 0,\n '1874': 0,\n '5862': 4,\n '10596': 0,\n '7210': 7,\n '12213': 0,\n '5900': 0,\n '7667': 7,\n '1345': 0,\n '9224': 6,\n '14004': 7,\n '9386': 5,\n '13436': 0,\n '13957': 7,\n '2744': 1,\n '12568': 0,\n '13373': 0,\n '7199': 0,\n '316': 3,\n '5509': 6,\n '7517': 0,\n '5165': 3,\n '6875': 9,\n '11933': 3,\n '12646': 0,\n '4209': 1,\n '13217': 0,\n '9444': 7,\n '2205': 0,\n '11667': 3,\n '1588': 0,\n '10171': 0,\n '7229': 6,\n '11803': 0,\n '13925': 0,\n '12050': 0,\n '15231': 0,\n '15836': 1,\n '361': 3,\n '4000': 3,\n '3336': 0,\n '13014': 0,\n '464': 1,\n '10963': 0,\n '11681': 3,\n '353': 3,\n '14584': 3,\n '2398': 0,\n '4365': 0,\n '5284': 10,\n '11156': 9,\n '1710': 0,\n '4045': 3,\n '9968': 7,\n '10195': 0,\n '8538': 6,\n '2241': 0,\n '3088': 7,\n '14125': 7,\n '11700': 3,\n '13699': 7,\n '5578': 0,\n '14295': 4,\n '13244': 8,\n '12378': 2,\n '97': 0,\n '7061': 4,\n '15425': 3,\n '15013': 3,\n '10331': 0,\n '5288': 0,\n '9031': 3,\n '11268': 3,\n '3536': 0,\n '472': 7,\n '1899': 0,\n '4708': 0,\n '6288': 0,\n '12765': 0,\n '15171': 9,\n '3021': 7,\n '11756': 0,\n '5736': 0,\n '11202': 11,\n '7366': 0,\n '892': 3,\n '6137': 0,\n '6903': 7,\n '254': 7,\n '2850': 0,\n '5517': 0,\n '9605': 9,\n '2021': 0,\n '6470': 0,\n '1747': 0,\n '10592': 11,\n '1632': 0,\n '1835': 0,\n '10654': 5,\n '12738': 11,\n '13059': 1,\n '7868': 0,\n '4398': 0,\n '8229': 3,\n '10431': 0,\n '12': 3,\n '8817': 3,\n '12361': 0,\n '5207': 0,\n '13152': 0,\n '4561': 7,\n '1582': 0,\n '7662': 0,\n '1741': 0,\n '11412': 0,\n '5054': 3,\n '9315': 4,\n '10746': 0,\n '11823': 0,\n '11129': 11,\n '4420': 0,\n '33': 0,\n '1019': 7,\n '13999': 8,\n '10194': 4,\n '14553': 0,\n '202': 0,\n '7214': 0,\n '4330': 0,\n '10229': 0,\n '15084': 4,\n '1': 3,\n '5185': 10,\n '13392': 1,\n '3808': 3,\n '5203': 0,\n '12707': 9,\n '1276': 0,\n '2358': 0,\n '12128': 0,\n '6843': 6,\n '7320': 0,\n '7802': 0,\n '14402': 0,\n '3138': 7,\n '13537': 0,\n '11178': 11,\n '11911': 0,\n '15784': 7,\n '600': 7,\n '14821': 1,\n '4331': 0,\n '7106': 0,\n '14117': 0,\n '9679': 0,\n '12400': 2,\n '3751': 3,\n '7499': 0,\n '6652': 0,\n '342': 0,\n '890': 0,\n '3587': 0,\n '15570': 0,\n '4222': 0,\n '6281': 9,\n '10028': 6,\n '277': 0,\n '15193': 7,\n '2841': 0,\n '3708': 0,\n '15250': 0,\n '11923': 1,\n '12598': 3,\n '8546': 0,\n '13768': 0,\n '15752': 5,\n '12808': 0,\n '2558': 6,\n '7538': 1,\n '153': 4,\n '4334': 0,\n '12849': 0,\n '3943': 3,\n '10918': 0,\n '4399': 1,\n '1662': 0,\n '13859': 8,\n '12860': 3,\n '2071': 0,\n '562': 0,\n '5356': 6,\n '14482': 0,\n '15918': 5,\n '5853': 6,\n '8909': 1,\n '454': 0,\n '6816': 1,\n '137': 3,\n '5745': 0,\n '13776': 0,\n '15971': 3,\n '4565': 3,\n '10299': 3,\n '5909': 0,\n '5248': 3,\n '7278': 0,\n ...}"
     },
     "execution_count": 7,
     "metadata": {},
     "output_type": "execute_result"
    }
   ],
   "source": [
    "partition"
   ],
   "metadata": {
    "collapsed": false,
    "pycharm": {
     "name": "#%%\n"
    }
   }
  },
  {
   "cell_type": "code",
   "execution_count": 12,
   "outputs": [],
   "source": [
    "community_lists = {}\n",
    "for key in partition:\n",
    "    if partition[key] not in community_lists:\n",
    "        community_lists[partition[key]] = []\n",
    "        community_lists[partition[key]].append(key)\n",
    "    else:\n",
    "        community_lists[partition[key]].append(key)"
   ],
   "metadata": {
    "collapsed": false,
    "pycharm": {
     "name": "#%%\n"
    }
   }
  },
  {
   "cell_type": "code",
   "execution_count": 13,
   "outputs": [
    {
     "data": {
      "text/plain": "5"
     },
     "execution_count": 13,
     "metadata": {},
     "output_type": "execute_result"
    }
   ],
   "source": [
    "len(community_lists)"
   ],
   "metadata": {
    "collapsed": false,
    "pycharm": {
     "name": "#%%\n"
    }
   }
  },
  {
   "cell_type": "code",
   "execution_count": 14,
   "outputs": [],
   "source": [
    "community_sizes = {}\n",
    "for key in community_lists:\n",
    "    community_sizes[key] = len(community_lists[key])"
   ],
   "metadata": {
    "collapsed": false,
    "pycharm": {
     "name": "#%%\n"
    }
   }
  },
  {
   "cell_type": "code",
   "execution_count": 15,
   "outputs": [
    {
     "data": {
      "text/plain": "{4: 534, 1: 602, 3: 550, 2: 184, 0: 201}"
     },
     "execution_count": 15,
     "metadata": {},
     "output_type": "execute_result"
    }
   ],
   "source": [
    "community_sizes"
   ],
   "metadata": {
    "collapsed": false,
    "pycharm": {
     "name": "#%%\n"
    }
   }
  },
  {
   "cell_type": "code",
   "execution_count": 16,
   "outputs": [],
   "source": [
    "community_sizes_list = list(community_sizes.values())"
   ],
   "metadata": {
    "collapsed": false,
    "pycharm": {
     "name": "#%%\n"
    }
   }
  },
  {
   "cell_type": "code",
   "execution_count": 17,
   "outputs": [],
   "source": [
    "community_sizes_list.sort(reverse=True)"
   ],
   "metadata": {
    "collapsed": false,
    "pycharm": {
     "name": "#%%\n"
    }
   }
  },
  {
   "cell_type": "code",
   "execution_count": 18,
   "outputs": [
    {
     "data": {
      "text/plain": "[602, 550, 534, 201, 184]"
     },
     "execution_count": 18,
     "metadata": {},
     "output_type": "execute_result"
    }
   ],
   "source": [
    "community_sizes_list"
   ],
   "metadata": {
    "collapsed": false,
    "pycharm": {
     "name": "#%%\n"
    }
   }
  },
  {
   "cell_type": "code",
   "execution_count": 19,
   "outputs": [],
   "source": [
    "community_ids = range(1, len(community_sizes)+1)"
   ],
   "metadata": {
    "collapsed": false,
    "pycharm": {
     "name": "#%%\n"
    }
   }
  },
  {
   "cell_type": "code",
   "execution_count": 20,
   "outputs": [],
   "source": [
    "df = pd.DataFrame({\"Community id\":community_ids, \"Community size\":community_sizes_list})"
   ],
   "metadata": {
    "collapsed": false,
    "pycharm": {
     "name": "#%%\n"
    }
   }
  },
  {
   "cell_type": "code",
   "execution_count": 21,
   "outputs": [
    {
     "data": {
      "text/plain": "<Figure size 432x288 with 1 Axes>",
      "image/png": "[encoded data removed]"
     },
     "metadata": {},
     "output_type": "display_data"
    }
   ],
   "source": [
    "sns.set_style('whitegrid')\n",
    "ax = sns.scatterplot(data=df, x='Community id', y='Community size', color='green')\n",
    "\n",
    "ax.set(xlim=(-5, 65))\n",
    "# ax.set(ylim=(-0.1, 3.2))\n",
    "# ax.set(xticklabels=['',1,'',10,'',100,'',1000,'',10000])\n",
    "# ax.set(yticklabels=['',1,'',10,'',100,'',1000])\n",
    "sns.set(font_scale = 1.5)\n",
    "\n",
    "# plt.savefig('../plots/community_size_distribution1.pdf', bbox_inches='tight')\n",
    "plt.show()"
   ],
   "metadata": {
    "collapsed": false,
    "pycharm": {
     "name": "#%%\n"
    }
   }
  },
  {
   "cell_type": "code",
   "execution_count": 22,
   "outputs": [],
   "source": [
    "user_communities_interactions_dict = {}\n",
    "for userId in user_items_dict:\n",
    "    if userId not in user_communities_interactions_dict:\n",
    "        user_communities_interactions_dict[userId] = [0] * len(community_lists)\n",
    "    for itemId in user_items_dict[userId]:\n",
    "        user_communities_interactions_dict[userId][partition[itemId]] += 1"
   ],
   "metadata": {
    "collapsed": false,
    "pycharm": {
     "name": "#%%\n"
    }
   }
  },
  {
   "cell_type": "code",
   "execution_count": 23,
   "outputs": [
    {
     "data": {
      "text/plain": "array([ 0,  0,  0,  0, 12])"
     },
     "execution_count": 23,
     "metadata": {},
     "output_type": "execute_result"
    }
   ],
   "source": [
    "x = np.array(user_communities_interactions_dict['1'])\n",
    "x"
   ],
   "metadata": {
    "collapsed": false,
    "pycharm": {
     "name": "#%%\n"
    }
   }
  },
  {
   "cell_type": "code",
   "execution_count": 24,
   "outputs": [
    {
     "data": {
      "text/plain": "0.2"
     },
     "execution_count": 24,
     "metadata": {},
     "output_type": "execute_result"
    }
   ],
   "source": [
    "np.sum(x/np.max(x))/x.shape[0]"
   ],
   "metadata": {
    "collapsed": false,
    "pycharm": {
     "name": "#%%\n"
    }
   }
  },
  {
   "cell_type": "code",
   "execution_count": 25,
   "outputs": [],
   "source": [
    "user_diversities = {}\n",
    "for userId in user_communities_interactions_dict:\n",
    "    user_community_vector = np.array(user_communities_interactions_dict[userId])\n",
    "    user_diversities[userId] = np.sum(user_community_vector/np.max(user_community_vector))/user_community_vector.shape[0]"
   ],
   "metadata": {
    "collapsed": false,
    "pycharm": {
     "name": "#%%\n"
    }
   }
  },
  {
   "cell_type": "code",
   "execution_count": 26,
   "outputs": [],
   "source": [
    "x = np.array(user_diversities.values())"
   ],
   "metadata": {
    "collapsed": false,
    "pycharm": {
     "name": "#%%\n"
    }
   }
  },
  {
   "cell_type": "code",
   "execution_count": 27,
   "outputs": [],
   "source": [
    "user_diversities_filtered = {}\n",
    "for userId in user_diversities:\n",
    "    if user_diversities[userId] > 0 and user_diversities[userId] <=1:\n",
    "        user_diversities_filtered[userId] = user_diversities[userId]"
   ],
   "metadata": {
    "collapsed": false,
    "pycharm": {
     "name": "#%%\n"
    }
   }
  },
  {
   "cell_type": "code",
   "execution_count": 28,
   "outputs": [],
   "source": [
    "user_diversities_df = pd.DataFrame({'userId':list(user_diversities_filtered.keys()), 'diversity':list(user_diversities_filtered.values())})"
   ],
   "metadata": {
    "collapsed": false,
    "pycharm": {
     "name": "#%%\n"
    }
   }
  },
  {
   "cell_type": "code",
   "execution_count": 29,
   "outputs": [
    {
     "data": {
      "text/plain": "     userId  diversity\n0         1   0.200000\n1         2   0.200000\n2         3   0.465060\n3         4   0.200000\n4         5   0.200000\n...     ...        ...\n1503   1504   0.255556\n1504   1505   0.266667\n1505   1506   0.200000\n1506   1507   0.200000\n1507   1508   0.232000\n\n[1508 rows x 2 columns]",
      "text/html": "<div>\n<style scoped>\n    .dataframe tbody tr th:only-of-type {\n        vertical-align: middle;\n    }\n\n    .dataframe tbody tr th {\n        vertical-align: top;\n    }\n\n    .dataframe thead th {\n        text-align: right;\n    }\n</style>\n<table border=\"1\" class=\"dataframe\">\n  <thead>\n    <tr style=\"text-align: right;\">\n      <th></th>\n      <th>userId</th>\n      <th>diversity</th>\n    </tr>\n  </thead>\n  <tbody>\n    <tr>\n      <td>0</td>\n      <td>1</td>\n      <td>0.200000</td>\n    </tr>\n    <tr>\n      <td>1</td>\n      <td>2</td>\n      <td>0.200000</td>\n    </tr>\n    <tr>\n      <td>2</td>\n      <td>3</td>\n      <td>0.465060</td>\n    </tr>\n    <tr>\n      <td>3</td>\n      <td>4</td>\n      <td>0.200000</td>\n    </tr>\n    <tr>\n      <td>4</td>\n      <td>5</td>\n      <td>0.200000</td>\n    </tr>\n    <tr>\n      <td>...</td>\n      <td>...</td>\n      <td>...</td>\n    </tr>\n    <tr>\n      <td>1503</td>\n      <td>1504</td>\n      <td>0.255556</td>\n    </tr>\n    <tr>\n      <td>1504</td>\n      <td>1505</td>\n      <td>0.266667</td>\n    </tr>\n    <tr>\n      <td>1505</td>\n      <td>1506</td>\n      <td>0.200000</td>\n    </tr>\n    <tr>\n      <td>1506</td>\n      <td>1507</td>\n      <td>0.200000</td>\n    </tr>\n    <tr>\n      <td>1507</td>\n      <td>1508</td>\n      <td>0.232000</td>\n    </tr>\n  </tbody>\n</table>\n<p>1508 rows × 2 columns</p>\n</div>"
     },
     "execution_count": 29,
     "metadata": {},
     "output_type": "execute_result"
    }
   ],
   "source": [
    "user_diversities_df"
   ],
   "metadata": {
    "collapsed": false,
    "pycharm": {
     "name": "#%%\n"
    }
   }
  },
  {
   "cell_type": "code",
   "execution_count": 30,
   "outputs": [
    {
     "data": {
      "text/plain": "<seaborn.axisgrid.FacetGrid at 0x7fa23a6253a0>"
     },
     "execution_count": 30,
     "metadata": {},
     "output_type": "execute_result"
    },
    {
     "data": {
      "text/plain": "<Figure size 360x360 with 1 Axes>",
      "image/png": "[encoded data removed]"
     },
     "metadata": {},
     "output_type": "display_data"
    }
   ],
   "source": [
    "sns.displot(user_diversities_df, x=\"diversity\", bins=50)"
   ],
   "metadata": {
    "collapsed": false,
    "pycharm": {
     "name": "#%%\n"
    }
   }
  },
  {
   "cell_type": "code",
   "execution_count": 37,
   "outputs": [],
   "source": [
    "source_diversities = []\n",
    "target_diversities = []\n",
    "filmtrust_social_filename = '../data/filmtrust/processed/social_connections.tsv'\n",
    "with open(filmtrust_social_filename) as fr:\n",
    "        for line in fr.readlines():\n",
    "            tokens = line.split()\n",
    "            source_user = tokens[0]\n",
    "            target_user = tokens[1]\n",
    "            if source_user in user_diversities_filtered and target_user in user_diversities_filtered:\n",
    "                source_diversities.append(user_diversities_filtered[source_user])\n",
    "                target_diversities.append(user_diversities_filtered[target_user])"
   ],
   "metadata": {
    "collapsed": false,
    "pycharm": {
     "name": "#%%\n"
    }
   }
  },
  {
   "cell_type": "code",
   "execution_count": 38,
   "outputs": [],
   "source": [
    "source_diversities = np.array(source_diversities)\n",
    "target_diversities = np.array(target_diversities)"
   ],
   "metadata": {
    "collapsed": false,
    "pycharm": {
     "name": "#%%\n"
    }
   }
  },
  {
   "cell_type": "code",
   "execution_count": 39,
   "outputs": [
    {
     "data": {
      "text/plain": "0.07491768392125187"
     },
     "execution_count": 39,
     "metadata": {},
     "output_type": "execute_result"
    }
   ],
   "source": [
    "from scipy.stats.stats import pearsonr\n",
    "pearsonr(source_diversities, target_diversities)[0]"
   ],
   "metadata": {
    "collapsed": false,
    "pycharm": {
     "name": "#%%\n"
    }
   }
  },
  {
   "cell_type": "code",
   "execution_count": null,
   "outputs": [],
   "source": [],
   "metadata": {
    "collapsed": false,
    "pycharm": {
     "name": "#%%\n"
    }
   }
  }
 ],
 "metadata": {
  "kernelspec": {
   "display_name": "Python 3",
   "language": "python",
   "name": "python3"
  },
  "language_info": {
   "codemirror_mode": {
    "name": "ipython",
    "version": 2
   },
   "file_extension": ".py",
   "mimetype": "text/x-python",
   "name": "python",
   "nbconvert_exporter": "python",
   "pygments_lexer": "ipython2",
   "version": "2.7.6"
  }
 },
 "nbformat": 4,
 "nbformat_minor": 0
}