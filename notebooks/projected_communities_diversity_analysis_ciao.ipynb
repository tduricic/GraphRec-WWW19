{
 "cells": [
  {
   "cell_type": "code",
   "execution_count": 9,
   "outputs": [],
   "source": [
    "import os\n",
    "import networkx as nx\n",
    "from networkx.algorithms import bipartite\n",
    "import community as community_louvain\n",
    "import matplotlib.pyplot as plt\n",
    "%matplotlib inline\n",
    "import seaborn as sns\n",
    "plt.style.use('seaborn')\n",
    "sns.set_style('whitegrid')\n",
    "import pandas as pd\n",
    "import numpy as np"
   ],
   "metadata": {
    "collapsed": false,
    "pycharm": {
     "name": "#%%\n"
    }
   }
  },
  {
   "cell_type": "code",
   "execution_count": 10,
   "outputs": [
    {
     "data": {
      "text/plain": "'/home/tduricic/Development/workspace/elliot/notebooks'"
     },
     "execution_count": 10,
     "metadata": {},
     "output_type": "execute_result"
    }
   ],
   "source": [
    "os.getcwd()"
   ],
   "metadata": {
    "collapsed": false,
    "pycharm": {
     "name": "#%%\n"
    }
   }
  },
  {
   "cell_type": "code",
   "execution_count": 11,
   "outputs": [],
   "source": [
    "ciao_ratings_filename = '../data/ciao/processed/ratings.tsv'\n",
    "def create_ratings_bipartite_graph(filename):\n",
    "    users = set()\n",
    "    items = set()\n",
    "    user_items_dict = {}\n",
    "    edges = []\n",
    "    with open(filename) as fr:\n",
    "        for line in fr.readlines():\n",
    "            tokens = line.split()\n",
    "            userId = tokens[0]\n",
    "            itemId = tokens[1]\n",
    "            # For now we omit the weight\n",
    "            # rating = float(tokens[2])\n",
    "\n",
    "            users.add(userId)\n",
    "            items.add(itemId)\n",
    "            edges.append((userId, itemId))\n",
    "            if userId not in user_items_dict:\n",
    "                user_items_dict[userId] = []\n",
    "                user_items_dict[userId].append(itemId)\n",
    "            else:\n",
    "                user_items_dict[userId].append(itemId)\n",
    "    B = nx.Graph()\n",
    "    B.add_nodes_from(users, bipartite=0)\n",
    "    B.add_nodes_from(items, bipartite=1)\n",
    "    B.add_edges_from(edges)\n",
    "\n",
    "    return B, user_items_dict, users, items"
   ],
   "metadata": {
    "collapsed": false,
    "pycharm": {
     "name": "#%%\n"
    }
   }
  },
  {
   "cell_type": "code",
   "execution_count": 12,
   "outputs": [],
   "source": [
    "B, user_items_dict, users, items = create_ratings_bipartite_graph(ciao_ratings_filename)"
   ],
   "metadata": {
    "collapsed": false,
    "pycharm": {
     "name": "#%%\n"
    }
   }
  },
  {
   "cell_type": "code",
   "execution_count": 13,
   "outputs": [],
   "source": [
    "projected_G = bipartite.projected_graph(B, items)"
   ],
   "metadata": {
    "collapsed": false,
    "pycharm": {
     "name": "#%%\n"
    }
   }
  },
  {
   "cell_type": "code",
   "execution_count": 44,
   "outputs": [
    {
     "name": "stdout",
     "output_type": "stream",
     "text": [
      "4594104\n"
     ]
    }
   ],
   "source": [
    "print(len(projected_G.edges))"
   ],
   "metadata": {
    "collapsed": false,
    "pycharm": {
     "name": "#%%\n"
    }
   }
  },
  {
   "cell_type": "code",
   "execution_count": 14,
   "outputs": [],
   "source": [
    "partition = community_louvain.best_partition(projected_G)"
   ],
   "metadata": {
    "collapsed": false,
    "pycharm": {
     "name": "#%%\n"
    }
   }
  },
  {
   "cell_type": "code",
   "execution_count": 15,
   "outputs": [
    {
     "data": {
      "text/plain": "{'11102': 4,\n '6210': 1,\n '745': 1,\n '1533': 11,\n '6571': 3,\n '7039': 7,\n '8282': 7,\n '8303': 5,\n '9030': 7,\n '10151': 3,\n '818': 3,\n '6558': 7,\n '14676': 3,\n '7056': 3,\n '2043': 7,\n '14678': 6,\n '570': 7,\n '5016': 3,\n '15353': 1,\n '5513': 7,\n '955': 11,\n '15026': 7,\n '354': 5,\n '3762': 7,\n '14529': 3,\n '1491': 3,\n '15251': 7,\n '7904': 1,\n '9361': 1,\n '2614': 5,\n '1394': 3,\n '9901': 7,\n '9700': 7,\n '8253': 6,\n '4359': 7,\n '9383': 7,\n '951': 7,\n '7706': 6,\n '5651': 1,\n '2843': 7,\n '4553': 5,\n '3661': 7,\n '10921': 7,\n '11183': 4,\n '11750': 7,\n '13237': 3,\n '13835': 7,\n '6786': 3,\n '178': 3,\n '756': 5,\n '9436': 7,\n '1795': 7,\n '1461': 7,\n '1850': 6,\n '1787': 7,\n '4780': 7,\n '11760': 7,\n '15155': 9,\n '9370': 5,\n '15400': 9,\n '16077': 9,\n '4122': 3,\n '5000': 7,\n '11072': 3,\n '14900': 7,\n '4353': 7,\n '7474': 3,\n '8768': 3,\n '9468': 7,\n '4377': 7,\n '14331': 3,\n '12063': 3,\n '3737': 7,\n '14031': 7,\n '9412': 6,\n '6868': 5,\n '5': 7,\n '2424': 7,\n '4651': 5,\n '9423': 4,\n '14583': 10,\n '5529': 11,\n '4211': 7,\n '6569': 1,\n '5714': 6,\n '7906': 7,\n '482': 7,\n '4379': 3,\n '13881': 3,\n '1941': 3,\n '2016': 7,\n '5044': 10,\n '5975': 7,\n '12079': 3,\n '8163': 7,\n '12440': 3,\n '3961': 7,\n '12655': 3,\n '13055': 7,\n '14386': 3,\n '14993': 7,\n '119': 3,\n '3327': 7,\n '3888': 0,\n '5852': 7,\n '14695': 7,\n '5563': 1,\n '14858': 6,\n '15569': 7,\n '3110': 0,\n '5130': 7,\n '7015': 1,\n '12260': 3,\n '14639': 7,\n '2165': 3,\n '15913': 9,\n '11377': 7,\n '4080': 7,\n '4734': 5,\n '12677': 6,\n '2813': 3,\n '11458': 7,\n '14961': 1,\n '9907': 5,\n '4608': 5,\n '12900': 7,\n '13189': 10,\n '3439': 7,\n '4440': 7,\n '9198': 6,\n '2554': 5,\n '15264': 10,\n '1782': 7,\n '14040': 6,\n '7535': 3,\n '4468': 3,\n '4996': 5,\n '4990': 7,\n '13542': 7,\n '7571': 11,\n '3215': 7,\n '1764': 3,\n '10440': 10,\n '12234': 10,\n '7165': 7,\n '10629': 11,\n '3520': 3,\n '11136': 4,\n '12649': 7,\n '1824': 7,\n '8954': 7,\n '8938': 5,\n '10745': 7,\n '2357': 5,\n '3735': 6,\n '9409': 10,\n '2481': 3,\n '16101': 5,\n '3259': 6,\n '4332': 7,\n '6298': 3,\n '6300': 1,\n '4973': 5,\n '6701': 3,\n '13005': 6,\n '6272': 3,\n '7857': 6,\n '9563': 5,\n '13903': 0,\n '15512': 11,\n '2119': 7,\n '8142': 5,\n '744': 7,\n '2643': 1,\n '1887': 3,\n '7079': 7,\n '5226': 7,\n '11898': 7,\n '14437': 1,\n '5291': 7,\n '353': 7,\n '4908': 6,\n '6152': 3,\n '1368': 7,\n '15519': 9,\n '3948': 7,\n '5175': 7,\n '15278': 10,\n '15037': 10,\n '7196': 2,\n '11929': 3,\n '1785': 7,\n '9375': 5,\n '11781': 7,\n '313': 7,\n '6937': 1,\n '3312': 7,\n '13317': 10,\n '9813': 5,\n '13024': 6,\n '4293': 7,\n '8082': 1,\n '10856': 7,\n '10047': 5,\n '10181': 3,\n '11592': 7,\n '14563': 7,\n '608': 11,\n '6901': 5,\n '5488': 7,\n '12481': 7,\n '9104': 1,\n '13708': 5,\n '9327': 2,\n '401': 7,\n '11444': 7,\n '12462': 5,\n '15700': 3,\n '12410': 7,\n '867': 7,\n '972': 11,\n '7658': 3,\n '294': 6,\n '5872': 7,\n '15029': 1,\n '12081': 3,\n '14029': 7,\n '11389': 1,\n '9979': 11,\n '11723': 6,\n '9441': 11,\n '11061': 11,\n '3111': 0,\n '8106': 1,\n '12967': 7,\n '9170': 7,\n '4624': 7,\n '11293': 7,\n '3954': 7,\n '4121': 7,\n '15732': 10,\n '6449': 7,\n '6583': 0,\n '10538': 7,\n '9623': 6,\n '6839': 7,\n '8419': 7,\n '12266': 3,\n '15381': 11,\n '11623': 11,\n '3850': 3,\n '13700': 5,\n '11210': 4,\n '13673': 10,\n '9996': 5,\n '6760': 7,\n '5223': 7,\n '12324': 3,\n '7213': 5,\n '9276': 7,\n '4513': 7,\n '10587': 7,\n '14134': 7,\n '995': 7,\n '3636': 7,\n '8574': 1,\n '1762': 7,\n '7127': 5,\n '826': 7,\n '6770': 7,\n '9142': 5,\n '15215': 7,\n '13089': 7,\n '13321': 7,\n '8153': 7,\n '7721': 1,\n '5597': 3,\n '6332': 5,\n '2215': 3,\n '3662': 7,\n '11799': 10,\n '9021': 5,\n '15661': 1,\n '4404': 3,\n '13207': 8,\n '892': 7,\n '6013': 7,\n '9256': 1,\n '11405': 6,\n '3846': 7,\n '4617': 7,\n '11242': 4,\n '14166': 5,\n '15061': 9,\n '10306': 3,\n '11005': 3,\n '2826': 1,\n '6611': 7,\n '6846': 5,\n '9044': 11,\n '12561': 7,\n '15025': 5,\n '3412': 7,\n '6020': 3,\n '10067': 7,\n '10444': 1,\n '13879': 1,\n '2314': 7,\n '4286': 3,\n '12970': 7,\n '15828': 10,\n '9520': 7,\n '9015': 5,\n '10729': 11,\n '2143': 7,\n '10436': 7,\n '7025': 7,\n '6976': 7,\n '100': 1,\n '1793': 3,\n '11724': 7,\n '8875': 10,\n '14793': 9,\n '13617': 6,\n '2771': 10,\n '7133': 5,\n '13668': 5,\n '12274': 6,\n '13629': 11,\n '2257': 3,\n '2318': 3,\n '8707': 7,\n '11626': 3,\n '16095': 3,\n '8343': 7,\n '15118': 5,\n '2446': 1,\n '14522': 3,\n '9165': 7,\n '12829': 1,\n '11521': 7,\n '3867': 7,\n '4350': 7,\n '4374': 7,\n '12012': 6,\n '6027': 3,\n '3991': 7,\n '3895': 7,\n '4150': 7,\n '13503': 11,\n '14657': 7,\n '7945': 7,\n '9038': 7,\n '13584': 7,\n '6692': 1,\n '1448': 7,\n '9169': 3,\n '5901': 7,\n '10242': 3,\n '6189': 3,\n '6907': 7,\n '4369': 7,\n '7775': 1,\n '9305': 1,\n '3716': 7,\n '12111': 7,\n '15354': 10,\n '8806': 9,\n '15084': 9,\n '12377': 3,\n '9189': 7,\n '171': 7,\n '3646': 7,\n '627': 7,\n '1527': 7,\n '9659': 10,\n '4112': 1,\n '14698': 7,\n '4675': 5,\n '9910': 0,\n '9338': 5,\n '4816': 6,\n '555': 10,\n '6831': 7,\n '15613': 9,\n '1586': 3,\n '14192': 7,\n '3058': 7,\n '5850': 3,\n '6252': 7,\n '7392': 1,\n '12942': 3,\n '1336': 6,\n '15115': 7,\n '3316': 7,\n '3399': 7,\n '13341': 6,\n '14511': 3,\n '847': 8,\n '14487': 3,\n '4907': 7,\n '14907': 7,\n '3980': 7,\n '5812': 7,\n '5989': 11,\n '10458': 11,\n '10509': 11,\n '12112': 3,\n '2245': 1,\n '3718': 6,\n '10869': 7,\n '2075': 7,\n '10431': 7,\n '15142': 7,\n '382': 7,\n '7911': 1,\n '2885': 3,\n '6815': 7,\n '9035': 7,\n '15932': 9,\n '12031': 3,\n '6460': 7,\n '755': 7,\n '527': 7,\n '912': 6,\n '3663': 7,\n '13887': 3,\n '1474': 7,\n '14373': 9,\n '8446': 7,\n '9230': 7,\n '304': 7,\n '5884': 7,\n '3032': 7,\n '11981': 3,\n '7467': 3,\n '13685': 7,\n '14891': 3,\n '14494': 3,\n '13575': 11,\n '3545': 3,\n '6413': 7,\n '189': 3,\n '9384': 11,\n '2150': 7,\n '15266': 10,\n '12999': 11,\n '6102': 11,\n '4934': 7,\n '5703': 7,\n '1384': 1,\n '9617': 7,\n '8854': 9,\n '9718': 6,\n '11925': 1,\n '300': 7,\n '7665': 3,\n '8773': 11,\n '10104': 3,\n '2607': 1,\n '5368': 7,\n '3095': 5,\n '1736': 7,\n '9626': 3,\n '504': 0,\n '2808': 11,\n '2707': 0,\n '7183': 11,\n '3199': 7,\n '10963': 7,\n '8708': 7,\n '7901': 7,\n '13558': 11,\n '13150': 11,\n '2099': 7,\n '14039': 5,\n '1594': 7,\n '4844': 5,\n '6149': 3,\n '14196': 7,\n '8982': 11,\n '9455': 11,\n '5448': 7,\n '3674': 7,\n '5864': 1,\n '10803': 7,\n '12858': 6,\n '9857': 7,\n '11730': 7,\n '12907': 11,\n '13291': 5,\n '909': 7,\n '5979': 2,\n '8696': 7,\n '10948': 6,\n '1632': 7,\n '1652': 1,\n '7218': 5,\n '11940': 3,\n '5366': 7,\n '9487': 1,\n '6848': 9,\n '280': 7,\n '15357': 10,\n '5653': 9,\n '6408': 7,\n '1694': 7,\n '8556': 7,\n '11546': 3,\n '7479': 1,\n '11002': 7,\n '5552': 11,\n '13950': 5,\n '15225': 7,\n '15674': 3,\n '618': 7,\n '2961': 3,\n '4204': 6,\n '13748': 7,\n '811': 7,\n '4929': 3,\n '4578': 7,\n '11872': 10,\n '12303': 3,\n '180': 7,\n '670': 7,\n '4327': 7,\n '14918': 7,\n '7737': 7,\n '1122': 11,\n '1708': 7,\n '10005': 5,\n '3187': 1,\n '16014': 5,\n '1738': 7,\n '4914': 5,\n '10598': 7,\n '5062': 7,\n '15619': 3,\n '6920': 11,\n '1289': 5,\n '12101': 3,\n '3992': 7,\n '2226': 3,\n '12610': 7,\n '5804': 3,\n '3999': 7,\n '4824': 6,\n '4659': 7,\n '9286': 6,\n '13799': 1,\n '11143': 4,\n '14773': 7,\n '13335': 10,\n '1805': 7,\n '11511': 7,\n '9350': 3,\n '2173': 7,\n '15471': 9,\n '2374': 10,\n '9905': 11,\n '5641': 7,\n '13996': 5,\n '5274': 3,\n '5518': 7,\n '5583': 7,\n '5705': 1,\n '2324': 3,\n '8275': 1,\n '12491': 10,\n '15836': 1,\n '3193': 7,\n '13988': 6,\n '2198': 7,\n '10076': 5,\n '8138': 9,\n '11776': 7,\n '14598': 7,\n '2652': 6,\n '1266': 6,\n '11631': 7,\n '5702': 7,\n '7081': 5,\n '7698': 8,\n '11574': 7,\n '10232': 7,\n '224': 7,\n '13874': 6,\n '15016': 10,\n '3630': 7,\n '12663': 6,\n '14835': 9,\n '10417': 3,\n '11401': 7,\n '9762': 5,\n '15456': 0,\n '12637': 3,\n '13693': 7,\n '7238': 3,\n '1615': 7,\n '5746': 1,\n '8212': 7,\n '526': 7,\n '3659': 7,\n '7000': 1,\n '326': 6,\n '888': 7,\n '5773': 11,\n '15032': 9,\n '8074': 7,\n '10372': 7,\n '12662': 7,\n '9701': 7,\n '8850': 5,\n '3734': 7,\n '14914': 3,\n '15485': 7,\n '11824': 3,\n '3088': 5,\n '7619': 3,\n '7817': 3,\n '15253': 5,\n '16029': 3,\n '12136': 3,\n '4334': 7,\n '4110': 3,\n '1164': 3,\n '1759': 6,\n '4101': 3,\n '10616': 7,\n '11412': 3,\n '5439': 7,\n '8532': 7,\n '10411': 7,\n '7242': 9,\n '10964': 7,\n '11292': 6,\n '12450': 3,\n '14324': 3,\n '3428': 7,\n '5638': 5,\n '2088': 3,\n '13468': 5,\n '15810': 7,\n '15934': 7,\n '12131': 3,\n '8306': 7,\n '11873': 10,\n '9890': 1,\n '6867': 3,\n '4299': 7,\n '9357': 6,\n '10058': 11,\n '4940': 6,\n '9970': 5,\n '625': 7,\n '15616': 11,\n '6648': 5,\n '12281': 3,\n '8299': 3,\n '15956': 9,\n '1604': 7,\n '2480': 1,\n '3949': 7,\n '6097': 3,\n '15074': 10,\n '11476': 7,\n '6767': 11,\n '11822': 3,\n '827': 3,\n '10830': 7,\n '10517': 11,\n '4245': 7,\n '12400': 8,\n '13501': 7,\n '5587': 1,\n '296': 6,\n '1066': 7,\n '2352': 3,\n '7345': 11,\n '11335': 3,\n '11204': 4,\n '11524': 7,\n '8661': 7,\n '9533': 5,\n '10582': 7,\n '1911': 7,\n '4429': 7,\n '8491': 7,\n '15994': 5,\n '7342': 7,\n '13356': 7,\n '4893': 7,\n '11665': 7,\n '7137': 3,\n '4630': 6,\n '12683': 7,\n '1997': 3,\n '1125': 3,\n '250': 7,\n '14028': 5,\n '9228': 5,\n '15370': 3,\n '2613': 7,\n '4607': 7,\n '2251': 3,\n '8826': 7,\n '10686': 7,\n '357': 5,\n '12417': 5,\n '3540': 7,\n '1893': 7,\n '14683': 9,\n '3876': 3,\n '8625': 7,\n '12161': 7,\n '7104': 1,\n '11286': 1,\n '11728': 11,\n '10956': 3,\n '15752': 0,\n '11710': 7,\n '11882': 11,\n '13967': 3,\n '2630': 5,\n '2500': 11,\n '145': 7,\n '6116': 3,\n '8277': 1,\n '12624': 7,\n '14749': 7,\n '14098': 7,\n '9096': 5,\n '10567': 7,\n '2666': 1,\n '2849': 2,\n '4318': 7,\n '5857': 5,\n '1743': 7,\n '14523': 7,\n '219': 3,\n '3595': 7,\n '13554': 7,\n '1055': 11,\n '1422': 9,\n '5508': 11,\n '5841': 3,\n '15957': 9,\n '345': 6,\n '5089': 7,\n '9472': 11,\n '11276': 7,\n '15477': 1,\n '2306': 3,\n '6953': 11,\n '8065': 7,\n '6104': 7,\n '7469': 3,\n '12011': 3,\n '14248': 6,\n '8654': 1,\n '85': 3,\n '441': 3,\n '8791': 7,\n '15958': 10,\n '10787': 10,\n '8364': 7,\n '8438': 1,\n '9726': 5,\n '7012': 6,\n '426': 5,\n '15835': 9,\n '1482': 7,\n '2015': 3,\n '2347': 7,\n '13737': 7,\n '8582': 7,\n '10379': 7,\n '3113': 2,\n '1440': 7,\n '14761': 7,\n '12285': 7,\n '216': 1,\n '5885': 7,\n '11325': 7,\n '11283': 1,\n '15034': 7,\n '15299': 6,\n '6541': 7,\n '8235': 7,\n '12208': 6,\n '943': 7,\n '15071': 1,\n '7269': 3,\n '1689': 7,\n '1750': 7,\n '1430': 11,\n '2503': 10,\n '7162': 7,\n '10323': 7,\n '5867': 3,\n '11725': 7,\n '9031': 7,\n '1208': 3,\n '11336': 7,\n '15646': 7,\n '13980': 3,\n '3501': 7,\n '2576': 3,\n '6376': 7,\n '8957': 7,\n '3273': 7,\n '830': 7,\n '9388': 1,\n '5345': 1,\n '6636': 3,\n '13466': 11,\n '15107': 7,\n '784': 4,\n '5760': 7,\n '4918': 7,\n '8865': 3,\n '9378': 7,\n '15643': 7,\n '1959': 3,\n '3380': 7,\n '3593': 3,\n '7825': 7,\n '3795': 7,\n '14106': 5,\n '890': 7,\n '5957': 7,\n '3998': 11,\n '11976': 3,\n '11654': 7,\n '10325': 11,\n '6975': 9,\n '10490': 11,\n '11196': 4,\n '1473': 7,\n '7243': 5,\n '805': 6,\n '1833': 3,\n '5724': 7,\n '7502': 1,\n '480': 7,\n '2108': 3,\n '4942': 6,\n '801': 7,\n '8315': 1,\n '12373': 3,\n '14211': 0,\n '2596': 7,\n '15078': 11,\n '5222': 1,\n '7987': 1,\n '1629': 7,\n '9800': 6,\n '9839': 7,\n '10558': 6,\n '7480': 3,\n '9505': 0,\n '12228': 3,\n '12596': 3,\n '12': 7,\n '5361': 3,\n '7100': 1,\n '7674': 3,\n '15848': 9,\n '12444': 7,\n '16108': 5,\n '7583': 3,\n '10383': 7,\n '14751': 10,\n '9772': 11,\n '9009': 9,\n '6939': 11,\n '4507': 7,\n '16102': 7,\n '29': 1,\n '10100': 6,\n '13639': 11,\n '15469': 0,\n '12435': 7,\n '509': 2,\n '5993': 7,\n '14477': 1,\n '3648': 7,\n '5126': 7,\n '12193': 5,\n '110': 3,\n '5467': 7,\n '6150': 7,\n '4764': 5,\n '12364': 3,\n '466': 7,\n '10834': 7,\n '3370': 7,\n '10157': 7,\n '1994': 3,\n '7330': 7,\n '14452': 3,\n '3179': 7,\n '7910': 8,\n '1733': 7,\n '1814': 7,\n '12882': 7,\n '7419': 7,\n '9684': 5,\n '11917': 3,\n '7791': 3,\n '12059': 6,\n '4448': 7,\n '12320': 6,\n '3818': 7,\n '3225': 3,\n '3107': 5,\n '10120': 7,\n '3387': 7,\n '7': 7,\n '2351': 3,\n '4159': 1,\n '7417': 1,\n '7578': 3,\n '11213': 4,\n '7237': 7,\n '6115': 7,\n '7465': 3,\n '7205': 3,\n '5558': 7,\n '7271': 3,\n '4317': 7,\n '7600': 3,\n '8297': 7,\n '13244': 3,\n '834': 7,\n '3817': 7,\n '10877': 9,\n '12051': 3,\n '13381': 1,\n '15858': 1,\n '8642': 5,\n '11248': 7,\n '15200': 5,\n '15104': 7,\n '284': 1,\n '3149': 5,\n '1159': 7,\n '10667': 7,\n '4699': 7,\n '6006': 7,\n '11236': 4,\n '13290': 7,\n '8169': 3,\n '10818': 10,\n '2207': 7,\n '12115': 3,\n '15868': 9,\n '9694': 5,\n '15473': 0,\n '8058': 7,\n '799': 7,\n '10231': 7,\n '9727': 3,\n '7282': 11,\n '38': 7,\n '14345': 9,\n '4466': 5,\n '13723': 11,\n '3091': 5,\n '15528': 3,\n '16010': 2,\n '6784': 7,\n '4235': 7,\n '8962': 7,\n '14610': 7,\n '9465': 5,\n '3139': 9,\n '7782': 3,\n '1259': 7,\n '3333': 7,\n '8380': 10,\n '12918': 3,\n '8490': 7,\n '2801': 1,\n '11176': 4,\n '11151': 4,\n '5364': 7,\n '7222': 7,\n '3811': 7,\n '11649': 3,\n '4339': 1,\n '9385': 7,\n '9474': 10,\n '13373': 7,\n '12140': 7,\n '11015': 7,\n '9365': 7,\n '3268': 7,\n '9254': 5,\n ...}"
     },
     "execution_count": 15,
     "metadata": {},
     "output_type": "execute_result"
    }
   ],
   "source": [
    "partition"
   ],
   "metadata": {
    "collapsed": false,
    "pycharm": {
     "name": "#%%\n"
    }
   }
  },
  {
   "cell_type": "code",
   "execution_count": 16,
   "outputs": [],
   "source": [
    "community_lists = {}\n",
    "for key in partition:\n",
    "    if partition[key] not in community_lists:\n",
    "        community_lists[partition[key]] = []\n",
    "        community_lists[partition[key]].append(key)\n",
    "    else:\n",
    "        community_lists[partition[key]].append(key)"
   ],
   "metadata": {
    "collapsed": false,
    "pycharm": {
     "name": "#%%\n"
    }
   }
  },
  {
   "cell_type": "code",
   "execution_count": 17,
   "outputs": [
    {
     "data": {
      "text/plain": "12"
     },
     "execution_count": 17,
     "metadata": {},
     "output_type": "execute_result"
    }
   ],
   "source": [
    "len(community_lists)"
   ],
   "metadata": {
    "collapsed": false,
    "pycharm": {
     "name": "#%%\n"
    }
   }
  },
  {
   "cell_type": "code",
   "execution_count": 18,
   "outputs": [],
   "source": [
    "community_sizes = {}\n",
    "for key in community_lists:\n",
    "    community_sizes[key] = len(community_lists[key])"
   ],
   "metadata": {
    "collapsed": false,
    "pycharm": {
     "name": "#%%\n"
    }
   }
  },
  {
   "cell_type": "code",
   "execution_count": 19,
   "outputs": [
    {
     "data": {
      "text/plain": "{4: 177,\n 1: 1416,\n 11: 850,\n 3: 2915,\n 7: 8371,\n 5: 1358,\n 6: 790,\n 9: 543,\n 10: 608,\n 0: 276,\n 2: 175,\n 8: 136}"
     },
     "execution_count": 19,
     "metadata": {},
     "output_type": "execute_result"
    }
   ],
   "source": [
    "community_sizes"
   ],
   "metadata": {
    "collapsed": false,
    "pycharm": {
     "name": "#%%\n"
    }
   }
  },
  {
   "cell_type": "code",
   "execution_count": 20,
   "outputs": [],
   "source": [
    "community_sizes_list = list(community_sizes.values())"
   ],
   "metadata": {
    "collapsed": false,
    "pycharm": {
     "name": "#%%\n"
    }
   }
  },
  {
   "cell_type": "code",
   "execution_count": 21,
   "outputs": [],
   "source": [
    "community_sizes_list.sort(reverse=True)"
   ],
   "metadata": {
    "collapsed": false,
    "pycharm": {
     "name": "#%%\n"
    }
   }
  },
  {
   "cell_type": "code",
   "execution_count": 22,
   "outputs": [
    {
     "data": {
      "text/plain": "[8371, 2915, 1416, 1358, 850, 790, 608, 543, 276, 177, 175, 136]"
     },
     "execution_count": 22,
     "metadata": {},
     "output_type": "execute_result"
    }
   ],
   "source": [
    "community_sizes_list"
   ],
   "metadata": {
    "collapsed": false,
    "pycharm": {
     "name": "#%%\n"
    }
   }
  },
  {
   "cell_type": "code",
   "execution_count": 23,
   "outputs": [],
   "source": [
    "community_ids = range(1, len(community_sizes)+1)"
   ],
   "metadata": {
    "collapsed": false,
    "pycharm": {
     "name": "#%%\n"
    }
   }
  },
  {
   "cell_type": "code",
   "execution_count": 24,
   "outputs": [],
   "source": [
    "df = pd.DataFrame({\"Community id\":community_ids, \"Community size\":community_sizes_list})"
   ],
   "metadata": {
    "collapsed": false,
    "pycharm": {
     "name": "#%%\n"
    }
   }
  },
  {
   "cell_type": "code",
   "execution_count": 25,
   "outputs": [
    {
     "data": {
      "text/plain": "<Figure size 576x396 with 1 Axes>",
      "image/png": "[encoded data removed]"
     },
     "metadata": {},
     "output_type": "display_data"
    }
   ],
   "source": [
    "sns.set_style('whitegrid')\n",
    "ax = sns.scatterplot(data=df, x='Community id', y='Community size', color='green')\n",
    "\n",
    "ax.set(xlim=(-5, 65))\n",
    "# ax.set(ylim=(-0.1, 3.2))\n",
    "# ax.set(xticklabels=['',1,'',10,'',100,'',1000,'',10000])\n",
    "# ax.set(yticklabels=['',1,'',10,'',100,'',1000])\n",
    "sns.set(font_scale = 1.5)\n",
    "\n",
    "# plt.savefig('../plots/community_size_distribution1.pdf', bbox_inches='tight')\n",
    "plt.show()"
   ],
   "metadata": {
    "collapsed": false,
    "pycharm": {
     "name": "#%%\n"
    }
   }
  },
  {
   "cell_type": "code",
   "execution_count": 26,
   "outputs": [],
   "source": [
    "user_communities_interactions_dict = {}\n",
    "for userId in user_items_dict:\n",
    "    if userId not in user_communities_interactions_dict:\n",
    "        user_communities_interactions_dict[userId] = [0] * len(community_lists)\n",
    "    for itemId in user_items_dict[userId]:\n",
    "        user_communities_interactions_dict[userId][partition[itemId]] += 1"
   ],
   "metadata": {
    "collapsed": false,
    "pycharm": {
     "name": "#%%\n"
    }
   }
  },
  {
   "cell_type": "code",
   "execution_count": 27,
   "outputs": [
    {
     "data": {
      "text/plain": "array([ 0,  0,  0, 13,  0,  0,  0,  0,  0,  0,  0,  1])"
     },
     "execution_count": 27,
     "metadata": {},
     "output_type": "execute_result"
    }
   ],
   "source": [
    "x = np.array(user_communities_interactions_dict['1'])\n",
    "x"
   ],
   "metadata": {
    "collapsed": false,
    "pycharm": {
     "name": "#%%\n"
    }
   }
  },
  {
   "cell_type": "code",
   "execution_count": 31,
   "outputs": [
    {
     "ename": "TypeError",
     "evalue": "unsupported operand type(s) for /: 'dict_values' and 'dict_values'",
     "output_type": "error",
     "traceback": [
      "\u001B[0;31m---------------------------------------------------------------------------\u001B[0m",
      "\u001B[0;31mTypeError\u001B[0m                                 Traceback (most recent call last)",
      "\u001B[0;32m<ipython-input-31-88a74b734215>\u001B[0m in \u001B[0;36m<module>\u001B[0;34m\u001B[0m\n\u001B[0;32m----> 1\u001B[0;31m \u001B[0mnp\u001B[0m\u001B[0;34m.\u001B[0m\u001B[0msum\u001B[0m\u001B[0;34m(\u001B[0m\u001B[0mx\u001B[0m\u001B[0;34m/\u001B[0m\u001B[0mnp\u001B[0m\u001B[0;34m.\u001B[0m\u001B[0mmax\u001B[0m\u001B[0;34m(\u001B[0m\u001B[0mx\u001B[0m\u001B[0;34m)\u001B[0m\u001B[0;34m)\u001B[0m\u001B[0;34m/\u001B[0m\u001B[0mx\u001B[0m\u001B[0;34m.\u001B[0m\u001B[0mshape\u001B[0m\u001B[0;34m[\u001B[0m\u001B[0;36m0\u001B[0m\u001B[0;34m]\u001B[0m\u001B[0;34m\u001B[0m\u001B[0;34m\u001B[0m\u001B[0m\n\u001B[0m",
      "\u001B[0;31mTypeError\u001B[0m: unsupported operand type(s) for /: 'dict_values' and 'dict_values'"
     ]
    }
   ],
   "source": [
    "np.sum(x/np.max(x))/x.shape[0]"
   ],
   "metadata": {
    "collapsed": false,
    "pycharm": {
     "name": "#%%\n"
    }
   }
  },
  {
   "cell_type": "code",
   "execution_count": 32,
   "outputs": [],
   "source": [
    "user_diversities = {}\n",
    "for userId in user_communities_interactions_dict:\n",
    "    user_community_vector = np.array(user_communities_interactions_dict[userId])\n",
    "    user_diversities[userId] = np.sum(user_community_vector/np.max(user_community_vector))/user_community_vector.shape[0]"
   ],
   "metadata": {
    "collapsed": false,
    "pycharm": {
     "name": "#%%\n"
    }
   }
  },
  {
   "cell_type": "code",
   "execution_count": 33,
   "outputs": [],
   "source": [
    "x = np.array(user_diversities.values())"
   ],
   "metadata": {
    "collapsed": false,
    "pycharm": {
     "name": "#%%\n"
    }
   }
  },
  {
   "cell_type": "code",
   "execution_count": 34,
   "outputs": [],
   "source": [
    "user_diversities_filtered = {}\n",
    "for userId in user_diversities:\n",
    "    if user_diversities[userId] > 0 and user_diversities[userId] <=1:\n",
    "        user_diversities_filtered[userId] = user_diversities[userId]"
   ],
   "metadata": {
    "collapsed": false,
    "pycharm": {
     "name": "#%%\n"
    }
   }
  },
  {
   "cell_type": "code",
   "execution_count": 35,
   "outputs": [],
   "source": [
    "user_diversities_df = pd.DataFrame({'userId':list(user_diversities_filtered.keys()), 'diversity':list(user_diversities_filtered.values())})"
   ],
   "metadata": {
    "collapsed": false,
    "pycharm": {
     "name": "#%%\n"
    }
   }
  },
  {
   "cell_type": "code",
   "execution_count": 36,
   "outputs": [
    {
     "data": {
      "text/plain": "      userId  diversity\n0          1   0.089744\n1          2   0.104167\n2          3   0.166667\n3          4   0.127451\n4          5   0.086667\n...      ...        ...\n17610  17611   0.083333\n17611  17612   0.083333\n17612  17613   0.083333\n17613  17614   0.083333\n17614  17615   0.083333\n\n[17615 rows x 2 columns]",
      "text/html": "<div>\n<style scoped>\n    .dataframe tbody tr th:only-of-type {\n        vertical-align: middle;\n    }\n\n    .dataframe tbody tr th {\n        vertical-align: top;\n    }\n\n    .dataframe thead th {\n        text-align: right;\n    }\n</style>\n<table border=\"1\" class=\"dataframe\">\n  <thead>\n    <tr style=\"text-align: right;\">\n      <th></th>\n      <th>userId</th>\n      <th>diversity</th>\n    </tr>\n  </thead>\n  <tbody>\n    <tr>\n      <td>0</td>\n      <td>1</td>\n      <td>0.089744</td>\n    </tr>\n    <tr>\n      <td>1</td>\n      <td>2</td>\n      <td>0.104167</td>\n    </tr>\n    <tr>\n      <td>2</td>\n      <td>3</td>\n      <td>0.166667</td>\n    </tr>\n    <tr>\n      <td>3</td>\n      <td>4</td>\n      <td>0.127451</td>\n    </tr>\n    <tr>\n      <td>4</td>\n      <td>5</td>\n      <td>0.086667</td>\n    </tr>\n    <tr>\n      <td>...</td>\n      <td>...</td>\n      <td>...</td>\n    </tr>\n    <tr>\n      <td>17610</td>\n      <td>17611</td>\n      <td>0.083333</td>\n    </tr>\n    <tr>\n      <td>17611</td>\n      <td>17612</td>\n      <td>0.083333</td>\n    </tr>\n    <tr>\n      <td>17612</td>\n      <td>17613</td>\n      <td>0.083333</td>\n    </tr>\n    <tr>\n      <td>17613</td>\n      <td>17614</td>\n      <td>0.083333</td>\n    </tr>\n    <tr>\n      <td>17614</td>\n      <td>17615</td>\n      <td>0.083333</td>\n    </tr>\n  </tbody>\n</table>\n<p>17615 rows × 2 columns</p>\n</div>"
     },
     "execution_count": 36,
     "metadata": {},
     "output_type": "execute_result"
    }
   ],
   "source": [
    "user_diversities_df"
   ],
   "metadata": {
    "collapsed": false,
    "pycharm": {
     "name": "#%%\n"
    }
   }
  },
  {
   "cell_type": "code",
   "execution_count": 37,
   "outputs": [
    {
     "data": {
      "text/plain": "<seaborn.axisgrid.FacetGrid at 0x7fef845ebee0>"
     },
     "execution_count": 37,
     "metadata": {},
     "output_type": "execute_result"
    },
    {
     "data": {
      "text/plain": "<Figure size 360x360 with 1 Axes>",
      "image/png": "[encoded data removed]"
     },
     "metadata": {},
     "output_type": "display_data"
    }
   ],
   "source": [
    "sns.displot(user_diversities_df, x=\"diversity\", bins=50)"
   ],
   "metadata": {
    "collapsed": false,
    "pycharm": {
     "name": "#%%\n"
    }
   }
  },
  {
   "cell_type": "code",
   "execution_count": 41,
   "outputs": [],
   "source": [
    "source_diversities = []\n",
    "target_diversities = []\n",
    "ciao_social_filename = '../data/ciao/processed/social_connections.tsv'\n",
    "with open(ciao_social_filename) as fr:\n",
    "        for line in fr.readlines():\n",
    "            tokens = line.split()\n",
    "            source_user = tokens[0]\n",
    "            target_user = tokens[1]\n",
    "            if source_user in user_diversities_filtered and target_user in user_diversities_filtered:\n",
    "                source_diversities.append(user_diversities_filtered[source_user])\n",
    "                target_diversities.append(user_diversities_filtered[target_user])"
   ],
   "metadata": {
    "collapsed": false,
    "pycharm": {
     "name": "#%%\n"
    }
   }
  },
  {
   "cell_type": "code",
   "execution_count": 42,
   "outputs": [],
   "source": [
    "source_diversities = np.array(source_diversities)\n",
    "target_diversities = np.array(target_diversities)"
   ],
   "metadata": {
    "collapsed": false,
    "pycharm": {
     "name": "#%%\n"
    }
   }
  },
  {
   "cell_type": "code",
   "execution_count": 43,
   "outputs": [
    {
     "data": {
      "text/plain": "0.02861294115035136"
     },
     "execution_count": 43,
     "metadata": {},
     "output_type": "execute_result"
    }
   ],
   "source": [
    "from scipy.stats.stats import pearsonr\n",
    "pearsonr(source_diversities, target_diversities)[0]"
   ],
   "metadata": {
    "collapsed": false,
    "pycharm": {
     "name": "#%%\n"
    }
   }
  },
  {
   "cell_type": "code",
   "execution_count": null,
   "outputs": [],
   "source": [],
   "metadata": {
    "collapsed": false,
    "pycharm": {
     "name": "#%%\n"
    }
   }
  }
 ],
 "metadata": {
  "kernelspec": {
   "display_name": "Python 3",
   "language": "python",
   "name": "python3"
  },
  "language_info": {
   "codemirror_mode": {
    "name": "ipython",
    "version": 2
   },
   "file_extension": ".py",
   "mimetype": "text/x-python",
   "name": "python",
   "nbconvert_exporter": "python",
   "pygments_lexer": "ipython2",
   "version": "2.7.6"
  }
 },
 "nbformat": 4,
 "nbformat_minor": 0
}