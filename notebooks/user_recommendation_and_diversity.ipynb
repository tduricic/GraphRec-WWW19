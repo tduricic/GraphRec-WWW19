{
 "cells": [
  {
   "cell_type": "code",
   "execution_count": 1,
   "metadata": {
    "collapsed": true
   },
   "outputs": [],
   "source": [
    "import pandas as pd\n",
    "import torch\n",
    "import os\n",
    "import networkx as nx\n",
    "from networkx.algorithms import bipartite\n",
    "import community as community_louvain\n",
    "import matplotlib.pyplot as plt\n",
    "%matplotlib inline\n",
    "import seaborn as sns\n",
    "plt.style.use('seaborn')\n",
    "sns.set_style('whitegrid')\n",
    "import pandas as pd\n",
    "import numpy as np"
   ]
  },
  {
   "cell_type": "code",
   "execution_count": 6,
   "outputs": [
    {
     "data": {
      "text/plain": "'/home/tduricic/Development/workspace/GraphRec-WWW19-myfork/GraphRec-WWW19/notebooks'"
     },
     "execution_count": 6,
     "metadata": {},
     "output_type": "execute_result"
    }
   ],
   "source": [
    "os.getcwd()"
   ],
   "metadata": {
    "collapsed": false,
    "pycharm": {
     "name": "#%%\n"
    }
   }
  },
  {
   "cell_type": "code",
   "execution_count": 3,
   "outputs": [],
   "source": [
    "def create_ratings_bipartite_graph(filename):\n",
    "    users = set()\n",
    "    items = set()\n",
    "    user_items_dict = {}\n",
    "    edges = []\n",
    "    with open(filename) as fr:\n",
    "        for line in fr.readlines():\n",
    "            tokens = line.split()\n",
    "            userId = tokens[0]\n",
    "            itemId = tokens[1]\n",
    "            # For now we omit the weight\n",
    "            # rating = float(tokens[2])\n",
    "\n",
    "            users.add(userId)\n",
    "            items.add(itemId)\n",
    "            edges.append((userId, itemId))\n",
    "            if userId not in user_items_dict:\n",
    "                user_items_dict[userId] = []\n",
    "                user_items_dict[userId].append(itemId)\n",
    "            else:\n",
    "                user_items_dict[userId].append(itemId)\n",
    "    B = nx.Graph()\n",
    "    B.add_nodes_from(users, bipartite=0)\n",
    "    B.add_nodes_from(items, bipartite=1)\n",
    "    B.add_edges_from(edges)\n",
    "\n",
    "    return B, user_items_dict, users, items"
   ],
   "metadata": {
    "collapsed": false,
    "pycharm": {
     "name": "#%%\n"
    }
   }
  },
  {
   "cell_type": "code",
   "execution_count": 9,
   "outputs": [],
   "source": [
    "ratings_filename = '../data/train.tsv'\n",
    "B, user_items_dict, users, items = create_ratings_bipartite_graph(ratings_filename)"
   ],
   "metadata": {
    "collapsed": false,
    "pycharm": {
     "name": "#%%\n"
    }
   }
  },
  {
   "cell_type": "code",
   "execution_count": 12,
   "outputs": [
    {
     "name": "stdout",
     "output_type": "stream",
     "text": [
      "343625\n",
      "6\n"
     ]
    }
   ],
   "source": [
    "projected_G = bipartite.projected_graph(B, items)\n",
    "print(len(projected_G.edges))\n",
    "partition = community_louvain.best_partition(projected_G)\n",
    "community_lists = {}\n",
    "for key in partition:\n",
    "    if partition[key] not in community_lists:\n",
    "        community_lists[partition[key]] = []\n",
    "        community_lists[partition[key]].append(key)\n",
    "    else:\n",
    "        community_lists[partition[key]].append(key)\n",
    "print(len(community_lists))"
   ],
   "metadata": {
    "collapsed": false,
    "pycharm": {
     "name": "#%%\n"
    }
   }
  },
  {
   "cell_type": "code",
   "execution_count": null,
   "outputs": [],
   "source": [
    "partition"
   ],
   "metadata": {
    "collapsed": false,
    "pycharm": {
     "name": "#%%\n"
    }
   }
  },
  {
   "cell_type": "code",
   "execution_count": 13,
   "outputs": [],
   "source": [
    "community_sizes = {}\n",
    "for key in community_lists:\n",
    "    community_sizes[key] = len(community_lists[key])"
   ],
   "metadata": {
    "collapsed": false,
    "pycharm": {
     "name": "#%%\n"
    }
   }
  },
  {
   "cell_type": "code",
   "execution_count": 14,
   "outputs": [
    {
     "data": {
      "text/plain": "{1: 563, 5: 571, 3: 98, 4: 145, 0: 268, 2: 135}"
     },
     "execution_count": 14,
     "metadata": {},
     "output_type": "execute_result"
    }
   ],
   "source": [
    "community_sizes"
   ],
   "metadata": {
    "collapsed": false,
    "pycharm": {
     "name": "#%%\n"
    }
   }
  },
  {
   "cell_type": "code",
   "execution_count": 16,
   "outputs": [
    {
     "data": {
      "text/plain": "[571, 563, 268, 145, 135, 98]"
     },
     "execution_count": 16,
     "metadata": {},
     "output_type": "execute_result"
    }
   ],
   "source": [
    "community_sizes_list = list(community_sizes.values())\n",
    "community_sizes_list.sort(reverse=True)\n",
    "community_sizes_list"
   ],
   "metadata": {
    "collapsed": false,
    "pycharm": {
     "name": "#%%\n"
    }
   }
  },
  {
   "cell_type": "code",
   "execution_count": 17,
   "outputs": [
    {
     "data": {
      "text/plain": "<Figure size 432x288 with 1 Axes>",
      "image/png": "[encoded data removed]"
     },
     "metadata": {},
     "output_type": "display_data"
    }
   ],
   "source": [
    "community_ids = range(1, len(community_sizes)+1)\n",
    "df = pd.DataFrame({\"Community id\":community_ids, \"Community size\":community_sizes_list})\n",
    "sns.set_style('whitegrid')\n",
    "ax = sns.scatterplot(data=df, x='Community id', y='Community size', color='green')\n",
    "\n",
    "ax.set(xlim=(-5, 65))\n",
    "# ax.set(ylim=(-0.1, 3.2))\n",
    "# ax.set(xticklabels=['',1,'',10,'',100,'',1000,'',10000])\n",
    "# ax.set(yticklabels=['',1,'',10,'',100,'',1000])\n",
    "sns.set(font_scale = 1.5)\n",
    "\n",
    "# plt.savefig('../plots/community_size_distribution1.pdf', bbox_inches='tight')\n",
    "plt.show()"
   ],
   "metadata": {
    "collapsed": false,
    "pycharm": {
     "name": "#%%\n"
    }
   }
  },
  {
   "cell_type": "code",
   "execution_count": 18,
   "outputs": [],
   "source": [
    "user_communities_interactions_dict = {}\n",
    "for userId in user_items_dict:\n",
    "    if userId not in user_communities_interactions_dict:\n",
    "        user_communities_interactions_dict[userId] = [0] * len(community_lists)\n",
    "    for itemId in user_items_dict[userId]:\n",
    "        user_communities_interactions_dict[userId][partition[itemId]] += 1"
   ],
   "metadata": {
    "collapsed": false,
    "pycharm": {
     "name": "#%%\n"
    }
   }
  },
  {
   "cell_type": "code",
   "execution_count": 22,
   "outputs": [
    {
     "data": {
      "text/plain": "0.28368794326241137"
     },
     "execution_count": 22,
     "metadata": {},
     "output_type": "execute_result"
    }
   ],
   "source": [
    "np.sum(x/np.max(x))/x.shape[0]"
   ],
   "metadata": {
    "collapsed": false,
    "pycharm": {
     "name": "#%%\n"
    }
   }
  },
  {
   "cell_type": "code",
   "execution_count": 23,
   "outputs": [],
   "source": [
    "user_diversities = {}\n",
    "for userId in user_communities_interactions_dict:\n",
    "    user_community_vector = np.array(user_communities_interactions_dict[userId])\n",
    "    user_diversities[userId] = np.sum(user_community_vector/np.max(user_community_vector))/user_community_vector.shape[0]"
   ],
   "metadata": {
    "collapsed": false,
    "pycharm": {
     "name": "#%%\n"
    }
   }
  },
  {
   "cell_type": "code",
   "execution_count": 24,
   "outputs": [],
   "source": [
    "x = np.array(user_diversities.values())"
   ],
   "metadata": {
    "collapsed": false,
    "pycharm": {
     "name": "#%%\n"
    }
   }
  },
  {
   "cell_type": "code",
   "execution_count": 25,
   "outputs": [],
   "source": [
    "user_diversities_filtered = {}\n",
    "for userId in user_diversities:\n",
    "    if user_diversities[userId] > 0 and user_diversities[userId] <=1:\n",
    "        user_diversities_filtered[userId] = user_diversities[userId]"
   ],
   "metadata": {
    "collapsed": false,
    "pycharm": {
     "name": "#%%\n"
    }
   }
  },
  {
   "cell_type": "code",
   "execution_count": 26,
   "outputs": [],
   "source": [
    "user_diversities_df = pd.DataFrame({'userId':list(user_diversities_filtered.keys()), 'diversity':list(user_diversities_filtered.values())})"
   ],
   "metadata": {
    "collapsed": false,
    "pycharm": {
     "name": "#%%\n"
    }
   }
  },
  {
   "cell_type": "code",
   "execution_count": 27,
   "outputs": [
    {
     "data": {
      "text/plain": "    userId  diversity\n0      681   0.280702\n1       81   0.493827\n2      172   0.290476\n3      151   0.243333\n4       27   0.597222\n..     ...        ...\n661    387   0.166667\n662    397   0.166667\n663    553   0.166667\n664    269   0.166667\n665    309   0.333333\n\n[666 rows x 2 columns]",
      "text/html": "<div>\n<style scoped>\n    .dataframe tbody tr th:only-of-type {\n        vertical-align: middle;\n    }\n\n    .dataframe tbody tr th {\n        vertical-align: top;\n    }\n\n    .dataframe thead th {\n        text-align: right;\n    }\n</style>\n<table border=\"1\" class=\"dataframe\">\n  <thead>\n    <tr style=\"text-align: right;\">\n      <th></th>\n      <th>userId</th>\n      <th>diversity</th>\n    </tr>\n  </thead>\n  <tbody>\n    <tr>\n      <td>0</td>\n      <td>681</td>\n      <td>0.280702</td>\n    </tr>\n    <tr>\n      <td>1</td>\n      <td>81</td>\n      <td>0.493827</td>\n    </tr>\n    <tr>\n      <td>2</td>\n      <td>172</td>\n      <td>0.290476</td>\n    </tr>\n    <tr>\n      <td>3</td>\n      <td>151</td>\n      <td>0.243333</td>\n    </tr>\n    <tr>\n      <td>4</td>\n      <td>27</td>\n      <td>0.597222</td>\n    </tr>\n    <tr>\n      <td>...</td>\n      <td>...</td>\n      <td>...</td>\n    </tr>\n    <tr>\n      <td>661</td>\n      <td>387</td>\n      <td>0.166667</td>\n    </tr>\n    <tr>\n      <td>662</td>\n      <td>397</td>\n      <td>0.166667</td>\n    </tr>\n    <tr>\n      <td>663</td>\n      <td>553</td>\n      <td>0.166667</td>\n    </tr>\n    <tr>\n      <td>664</td>\n      <td>269</td>\n      <td>0.166667</td>\n    </tr>\n    <tr>\n      <td>665</td>\n      <td>309</td>\n      <td>0.333333</td>\n    </tr>\n  </tbody>\n</table>\n<p>666 rows × 2 columns</p>\n</div>"
     },
     "execution_count": 27,
     "metadata": {},
     "output_type": "execute_result"
    }
   ],
   "source": [
    "user_diversities_df"
   ],
   "metadata": {
    "collapsed": false,
    "pycharm": {
     "name": "#%%\n"
    }
   }
  },
  {
   "cell_type": "code",
   "execution_count": 28,
   "outputs": [
    {
     "data": {
      "text/plain": "<seaborn.axisgrid.FacetGrid at 0x7f9b4dea7250>"
     },
     "execution_count": 28,
     "metadata": {},
     "output_type": "execute_result"
    },
    {
     "data": {
      "text/plain": "<Figure size 360x360 with 1 Axes>",
      "image/png": "[encoded data removed]"
     },
     "metadata": {},
     "output_type": "display_data"
    }
   ],
   "source": [
    "sns.displot(user_diversities_df, x=\"diversity\", bins=50)"
   ],
   "metadata": {
    "collapsed": false,
    "pycharm": {
     "name": "#%%\n"
    }
   }
  },
  {
   "cell_type": "code",
   "execution_count": 30,
   "outputs": [],
   "source": [
    "source_diversities = []\n",
    "target_diversities = []\n",
    "epinions_social_filename = '../data/social_connections.tsv'\n",
    "with open(epinions_social_filename) as fr:\n",
    "        for line in fr.readlines():\n",
    "            tokens = line.split()\n",
    "            source_user = tokens[0]\n",
    "            target_user = tokens[1]\n",
    "            if source_user in user_diversities_filtered and target_user in user_diversities_filtered:\n",
    "                source_diversities.append(user_diversities_filtered[source_user])\n",
    "                target_diversities.append(user_diversities_filtered[target_user])"
   ],
   "metadata": {
    "collapsed": false,
    "pycharm": {
     "name": "#%%\n"
    }
   }
  },
  {
   "cell_type": "code",
   "execution_count": 31,
   "outputs": [],
   "source": [
    "source_diversities = np.array(source_diversities)\n",
    "target_diversities = np.array(target_diversities)"
   ],
   "metadata": {
    "collapsed": false,
    "pycharm": {
     "name": "#%%\n"
    }
   }
  },
  {
   "cell_type": "code",
   "execution_count": 32,
   "outputs": [
    {
     "data": {
      "text/plain": "0.07778531829655605"
     },
     "execution_count": 32,
     "metadata": {},
     "output_type": "execute_result"
    }
   ],
   "source": [
    "from scipy.stats.stats import pearsonr\n",
    "pearsonr(source_diversities, target_diversities)[0]"
   ],
   "metadata": {
    "collapsed": false,
    "pycharm": {
     "name": "#%%\n"
    }
   }
  },
  {
   "cell_type": "code",
   "execution_count": null,
   "outputs": [],
   "source": [],
   "metadata": {
    "collapsed": false,
    "pycharm": {
     "name": "#%%\n"
    }
   }
  }
 ],
 "metadata": {
  "kernelspec": {
   "display_name": "Python 3",
   "language": "python",
   "name": "python3"
  },
  "language_info": {
   "codemirror_mode": {
    "name": "ipython",
    "version": 2
   },
   "file_extension": ".py",
   "mimetype": "text/x-python",
   "name": "python",
   "nbconvert_exporter": "python",
   "pygments_lexer": "ipython2",
   "version": "2.7.6"
  }
 },
 "nbformat": 4,
 "nbformat_minor": 0
}