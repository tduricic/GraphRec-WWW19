{
 "cells": [
  {
   "cell_type": "code",
   "execution_count": 3,
   "outputs": [],
   "source": [
    "import os\n",
    "import networkx as nx\n",
    "from networkx.algorithms import bipartite\n",
    "import community as community_louvain\n",
    "import matplotlib.pyplot as plt\n",
    "%matplotlib inline\n",
    "import seaborn as sns\n",
    "plt.style.use('seaborn')\n",
    "sns.set_style('whitegrid')\n",
    "import pandas as pd\n",
    "import numpy as np"
   ],
   "metadata": {
    "collapsed": false,
    "pycharm": {
     "name": "#%%\n"
    }
   }
  },
  {
   "cell_type": "code",
   "execution_count": 4,
   "outputs": [
    {
     "data": {
      "text/plain": "'/home/tduricic/Development/workspace/elliot/notebooks'"
     },
     "execution_count": 4,
     "metadata": {},
     "output_type": "execute_result"
    }
   ],
   "source": [
    "os.getcwd()"
   ],
   "metadata": {
    "collapsed": false,
    "pycharm": {
     "name": "#%%\n"
    }
   }
  },
  {
   "cell_type": "code",
   "execution_count": 5,
   "outputs": [],
   "source": [
    "lastfm_ratings_filename = '../data/lastfm/processed/ratings.tsv'\n",
    "def create_ratings_bipartite_graph(filename):\n",
    "    users = set()\n",
    "    items = set()\n",
    "    user_items_dict = {}\n",
    "    edges = []\n",
    "    with open(filename) as fr:\n",
    "        for line in fr.readlines():\n",
    "            tokens = line.split()\n",
    "            userId = tokens[0]\n",
    "            itemId = tokens[1]\n",
    "            # For now we omit the weight\n",
    "            # rating = float(tokens[2])\n",
    "\n",
    "            users.add(userId)\n",
    "            items.add(itemId)\n",
    "            edges.append((userId, itemId))\n",
    "            if userId not in user_items_dict:\n",
    "                user_items_dict[userId] = []\n",
    "                user_items_dict[userId].append(itemId)\n",
    "            else:\n",
    "                user_items_dict[userId].append(itemId)\n",
    "    B = nx.Graph()\n",
    "    B.add_nodes_from(users, bipartite=0)\n",
    "    B.add_nodes_from(items, bipartite=1)\n",
    "    B.add_edges_from(edges)\n",
    "\n",
    "    return B, user_items_dict, users, items"
   ],
   "metadata": {
    "collapsed": false,
    "pycharm": {
     "name": "#%%\n"
    }
   }
  },
  {
   "cell_type": "code",
   "execution_count": 6,
   "outputs": [],
   "source": [
    "B, user_items_dict, users, items = create_ratings_bipartite_graph(lastfm_ratings_filename)"
   ],
   "metadata": {
    "collapsed": false,
    "pycharm": {
     "name": "#%%\n"
    }
   }
  },
  {
   "cell_type": "code",
   "execution_count": 7,
   "outputs": [],
   "source": [
    "projected_G = bipartite.projected_graph(B, items)"
   ],
   "metadata": {
    "collapsed": false,
    "pycharm": {
     "name": "#%%\n"
    }
   }
  },
  {
   "cell_type": "code",
   "execution_count": 38,
   "outputs": [
    {
     "name": "stdout",
     "output_type": "stream",
     "text": [
      "3343783\n"
     ]
    }
   ],
   "source": [
    "print(len(projected_G.edges))"
   ],
   "metadata": {
    "collapsed": false,
    "pycharm": {
     "name": "#%%\n"
    }
   }
  },
  {
   "cell_type": "code",
   "execution_count": 8,
   "outputs": [],
   "source": [
    "partition = community_louvain.best_partition(projected_G)"
   ],
   "metadata": {
    "collapsed": false,
    "pycharm": {
     "name": "#%%\n"
    }
   }
  },
  {
   "cell_type": "code",
   "execution_count": 40,
   "outputs": [
    {
     "data": {
      "text/plain": "{'98639': 0,\n '32163': 1,\n '39877': 2,\n '76874': 3,\n '56947': 2,\n '103220': 4,\n '27540': 1,\n '95563': 5,\n '89754': 0,\n '17714': 1,\n '129981': 2,\n '15354': 1,\n '76685': 3,\n '5811': 3,\n '86589': 2,\n '68974': 2,\n '27501': 3,\n '29896': 6,\n '37292': 2,\n '121342': 4,\n '14740': 7,\n '72161': 2,\n '13148': 3,\n '43193': 1,\n '94386': 4,\n '38404': 0,\n '89595': 2,\n '127799': 2,\n '21033': 7,\n '25261': 3,\n '131780': 21,\n '58621': 0,\n '86444': 2,\n '134884': 4,\n '31167': 0,\n '92033': 3,\n '46757': 2,\n '38171': 2,\n '36810': 0,\n '119834': 4,\n '69183': 2,\n '74025': 4,\n '86653': 0,\n '76084': 2,\n '27164': 3,\n '110617': 2,\n '132679': 4,\n '88269': 4,\n '65676': 3,\n '62452': 9,\n '118461': 0,\n '91679': 1,\n '67733': 3,\n '56840': 3,\n '58154': 2,\n '50740': 2,\n '113728': 3,\n '34684': 1,\n '65499': 4,\n '125719': 2,\n '103286': 4,\n '134679': 3,\n '55285': 2,\n '60779': 3,\n '134348': 2,\n '65965': 3,\n '89498': 4,\n '41052': 2,\n '79348': 2,\n '122260': 2,\n '25033': 0,\n '129172': 7,\n '59618': 4,\n '4174': 1,\n '112752': 4,\n '74693': 2,\n '43439': 1,\n '49425': 3,\n '127709': 1,\n '46371': 2,\n '128729': 4,\n '136582': 2,\n '44676': 10,\n '53434': 4,\n '68700': 2,\n '126261': 3,\n '130310': 3,\n '75321': 9,\n '79098': 0,\n '118286': 4,\n '128921': 4,\n '29669': 6,\n '25233': 3,\n '127431': 8,\n '2694': 0,\n '58743': 13,\n '32245': 14,\n '108170': 4,\n '43399': 1,\n '17996': 3,\n '82009': 3,\n '95148': 3,\n '110130': 2,\n '89451': 2,\n '73295': 2,\n '21944': 1,\n '71041': 3,\n '4799': 1,\n '120066': 14,\n '103336': 2,\n '130757': 2,\n '31517': 0,\n '73741': 4,\n '130157': 2,\n '69731': 15,\n '116123': 2,\n '73535': 8,\n '7030': 1,\n '9829': 0,\n '59704': 2,\n '52661': 2,\n '61313': 2,\n '80085': 2,\n '45781': 1,\n '128655': 4,\n '20252': 7,\n '88448': 0,\n '8599': 1,\n '33934': 0,\n '139056': 2,\n '18920': 0,\n '18457': 1,\n '89384': 1,\n '97672': 2,\n '128580': 0,\n '74961': 2,\n '125178': 4,\n '111369': 4,\n '30299': 0,\n '11828': 1,\n '73769': 1,\n '81052': 2,\n '11516': 1,\n '59709': 2,\n '96045': 2,\n '121042': 2,\n '70362': 3,\n '32346': 14,\n '90143': 4,\n '82123': 0,\n '131845': 4,\n '21510': 3,\n '51156': 2,\n '23599': 7,\n '40094': 2,\n '51776': 2,\n '5097': 3,\n '35532': 21,\n '42100': 0,\n '33488': 1,\n '132093': 4,\n '9475': 1,\n '51336': 2,\n '48146': 0,\n '132886': 4,\n '22435': 1,\n '117514': 4,\n '68727': 2,\n '69514': 3,\n '97515': 3,\n '37442': 2,\n '69521': 3,\n '59005': 2,\n '71553': 3,\n '84169': 14,\n '102046': 2,\n '101953': 2,\n '37310': 2,\n '33374': 14,\n '89707': 3,\n '96692': 4,\n '34007': 3,\n '98920': 3,\n '55040': 2,\n '22833': 2,\n '4245': 2,\n '7585': 1,\n '111037': 3,\n '36234': 2,\n '12634': 1,\n '68273': 2,\n '71198': 2,\n '14487': 7,\n '61139': 2,\n '102549': 2,\n '20836': 15,\n '2263': 0,\n '92762': 2,\n '111123': 4,\n '114513': 16,\n '119511': 4,\n '89305': 15,\n '4108': 0,\n '126919': 4,\n '3197': 3,\n '34937': 5,\n '83942': 1,\n '93766': 2,\n '5001': 1,\n '25907': 1,\n '74356': 4,\n '39924': 2,\n '113529': 3,\n '47930': 13,\n '58777': 3,\n '97217': 4,\n '94756': 3,\n '50462': 3,\n '21568': 1,\n '118594': 4,\n '75535': 9,\n '83180': 2,\n '81144': 4,\n '46265': 3,\n '137301': 3,\n '10388': 0,\n '8513': 3,\n '50985': 4,\n '81089': 2,\n '44882': 10,\n '28025': 10,\n '113264': 1,\n '124964': 2,\n '118292': 4,\n '122395': 4,\n '129686': 3,\n '4343': 4,\n '40222': 2,\n '45879': 4,\n '93100': 3,\n '21924': 1,\n '86854': 2,\n '25365': 3,\n '73924': 1,\n '106331': 2,\n '116330': 2,\n '50625': 0,\n '17847': 3,\n '50531': 3,\n '25763': 1,\n '27188': 3,\n '101235': 2,\n '121590': 3,\n '122176': 1,\n '22211': 7,\n '130801': 0,\n '82048': 4,\n '86168': 2,\n '138490': 4,\n '10898': 0,\n '3771': 1,\n '96715': 2,\n '119449': 0,\n '20307': 7,\n '81079': 2,\n '95840': 4,\n '55803': 3,\n '137804': 4,\n '5710': 0,\n '12949': 1,\n '110604': 4,\n '131632': 4,\n '24799': 1,\n '94612': 1,\n '114470': 2,\n '17099': 1,\n '78720': 2,\n '63428': 15,\n '81885': 4,\n '96539': 3,\n '95533': 1,\n '126678': 4,\n '17494': 0,\n '52043': 2,\n '60623': 8,\n '75128': 9,\n '80973': 2,\n '85510': 4,\n '86453': 2,\n '119799': 4,\n '122939': 4,\n '48492': 2,\n '129008': 2,\n '49186': 21,\n '34623': 3,\n '107558': 3,\n '3260': 15,\n '43486': 1,\n '49098': 2,\n '81447': 2,\n '82002': 3,\n '108266': 2,\n '104630': 3,\n '130965': 4,\n '88533': 0,\n '18535': 2,\n '17333': 10,\n '101983': 2,\n '29934': 6,\n '53061': 4,\n '135243': 2,\n '134451': 4,\n '98811': 3,\n '41427': 2,\n '33128': 14,\n '120073': 14,\n '114360': 3,\n '11714': 10,\n '94314': 4,\n '97009': 2,\n '47963': 13,\n '53114': 4,\n '47093': 1,\n '42891': 1,\n '40844': 0,\n '1614': 1,\n '55126': 3,\n '106901': 3,\n '64750': 4,\n '84847': 2,\n '127726': 2,\n '138997': 4,\n '74111': 3,\n '133099': 2,\n '18217': 9,\n '4806': 1,\n '9965': 0,\n '53552': 5,\n '107798': 2,\n '27061': 3,\n '61987': 3,\n '71085': 3,\n '121051': 4,\n '31650': 2,\n '103076': 4,\n '1960': 1,\n '57737': 0,\n '137501': 1,\n '125425': 1,\n '30897': 15,\n '117842': 17,\n '20650': 1,\n '40927': 2,\n '115278': 0,\n '69747': 3,\n '134652': 1,\n '97398': 3,\n '19061': 15,\n '51148': 2,\n '55955': 7,\n '106001': 2,\n '75900': 3,\n '131031': 4,\n '13403': 0,\n '41444': 2,\n '48841': 13,\n '137375': 4,\n '63966': 1,\n '100170': 4,\n '19670': 4,\n '43994': 4,\n '17693': 0,\n '39669': 2,\n '126251': 3,\n '111013': 2,\n '117516': 3,\n '139271': 2,\n '40685': 2,\n '109542': 3,\n '100679': 2,\n '734': 2,\n '78153': 3,\n '102536': 2,\n '14142': 0,\n '5436': 1,\n '58947': 4,\n '20564': 2,\n '12109': 0,\n '60403': 2,\n '75489': 7,\n '51405': 4,\n '129137': 2,\n '87205': 15,\n '108431': 21,\n '21492': 14,\n '81466': 2,\n '119615': 2,\n '2178': 3,\n '103090': 4,\n '111577': 2,\n '91324': 1,\n '127062': 3,\n '86947': 4,\n '60255': 3,\n '77120': 3,\n '104855': 2,\n '84310': 1,\n '36918': 3,\n '57929': 4,\n '21480': 14,\n '8142': 7,\n '30941': 15,\n '68075': 4,\n '170': 0,\n '100264': 4,\n '43215': 1,\n '120421': 2,\n '18424': 1,\n '109465': 2,\n '50196': 2,\n '119438': 4,\n '35426': 1,\n '34005': 3,\n '57691': 4,\n '129646': 2,\n '133393': 4,\n '105901': 2,\n '103659': 4,\n '136033': 2,\n '17575': 2,\n '13426': 0,\n '73239': 1,\n '23410': 7,\n '82071': 4,\n '32385': 14,\n '131387': 4,\n '104127': 2,\n '90708': 2,\n '136631': 2,\n '139338': 3,\n '23037': 3,\n '101596': 2,\n '132235': 2,\n '35294': 2,\n '79320': 3,\n '79883': 4,\n '5077': 1,\n '94765': 7,\n '10925': 0,\n '91037': 2,\n '72247': 4,\n '114952': 2,\n '123372': 4,\n '69069': 2,\n '22901': 3,\n '22461': 10,\n '40640': 2,\n '138035': 3,\n '56800': 3,\n '19200': 1,\n '52909': 21,\n '134234': 2,\n '135740': 0,\n '36991': 1,\n '93302': 4,\n '25531': 0,\n '38262': 1,\n '5543': 2,\n '69821': 3,\n '15376': 1,\n '131775': 21,\n '2515': 2,\n '8185': 15,\n '102826': 4,\n '73344': 8,\n '138758': 1,\n '105887': 2,\n '14466': 7,\n '78343': 2,\n '106494': 2,\n '14909': 1,\n '68236': 2,\n '1092': 1,\n '108018': 2,\n '118037': 4,\n '82824': 7,\n '7203': 1,\n '122980': 2,\n '96805': 2,\n '128179': 4,\n '136142': 2,\n '139664': 2,\n '67544': 1,\n '118103': 1,\n '106071': 2,\n '44134': 4,\n '87119': 2,\n '132573': 4,\n '2202': 0,\n '7367': 1,\n '85455': 3,\n '118588': 4,\n '51284': 4,\n '14189': 7,\n '38826': 2,\n '78350': 2,\n '100640': 4,\n '126168': 4,\n '58589': 4,\n '18930': 21,\n '84275': 7,\n '8340': 2,\n '22731': 1,\n '81633': 4,\n '123340': 3,\n '116625': 4,\n '126478': 1,\n '79496': 4,\n '83429': 2,\n '112120': 3,\n '96508': 3,\n '129738': 0,\n '83120': 3,\n '134253': 4,\n '116974': 4,\n '8757': 1,\n '62666': 2,\n '67900': 4,\n '101825': 2,\n '97372': 2,\n '100655': 2,\n '63171': 10,\n '55352': 2,\n '79934': 3,\n '13038': 1,\n '312': 1,\n '61507': 2,\n '85278': 2,\n '99569': 2,\n '28004': 17,\n '108147': 3,\n '119067': 0,\n '139333': 7,\n '72728': 7,\n '78926': 2,\n '126572': 3,\n '73177': 2,\n '28205': 7,\n '123711': 2,\n '33037': 1,\n '100361': 4,\n '21702': 3,\n '100866': 2,\n '100219': 4,\n '138374': 5,\n '94551': 1,\n '138501': 4,\n '135004': 4,\n '100229': 4,\n '81074': 2,\n '5316': 1,\n '79107': 4,\n '90340': 7,\n '91353': 4,\n '124360': 2,\n '80003': 2,\n '14292': 0,\n '93781': 3,\n '86128': 7,\n '64399': 17,\n '88070': 2,\n '141': 10,\n '42651': 4,\n '71810': 4,\n '96140': 10,\n '132725': 2,\n '135506': 2,\n '15539': 0,\n '6441': 4,\n '8088': 2,\n '15957': 7,\n '48746': 1,\n '41051': 0,\n '87316': 18,\n '76884': 3,\n '65023': 18,\n '54741': 3,\n '13060': 4,\n '75116': 2,\n '89576': 2,\n '90350': 7,\n '8533': 21,\n '45829': 1,\n '63494': 15,\n '139299': 2,\n '27862': 13,\n '37082': 2,\n '76617': 14,\n '13551': 3,\n '66530': 3,\n '5673': 3,\n '45144': 4,\n '40925': 0,\n '56185': 3,\n '99996': 4,\n '27708': 17,\n '1691': 0,\n '59898': 2,\n '16806': 1,\n '103033': 4,\n '120923': 3,\n '48033': 13,\n '974': 10,\n '139351': 2,\n '13916': 2,\n '25661': 8,\n '93415': 2,\n '27876': 17,\n '30747': 15,\n '52344': 21,\n '8568': 0,\n '40857': 2,\n '72752': 7,\n '102881': 4,\n '126763': 7,\n '86732': 0,\n '123881': 3,\n '127151': 2,\n '24258': 2,\n '31484': 0,\n '94157': 3,\n '123741': 2,\n '115032': 15,\n '136693': 4,\n '6349': 1,\n '85581': 2,\n '27474': 3,\n '126293': 14,\n '15044': 0,\n '18094': 3,\n '70955': 3,\n '97475': 2,\n '75655': 4,\n '130772': 2,\n '71147': 2,\n '137855': 1,\n '82201': 2,\n '66415': 3,\n '52399': 21,\n '100034': 4,\n '58107': 2,\n '55857': 3,\n '47257': 2,\n '30513': 15,\n '84791': 2,\n '125705': 15,\n '91295': 2,\n '132354': 2,\n '73592': 1,\n '132091': 4,\n '119898': 10,\n '81278': 2,\n '42615': 4,\n '102613': 4,\n '81182': 2,\n '59916': 2,\n '113582': 7,\n '124193': 2,\n '64038': 2,\n '62388': 2,\n '65498': 4,\n '13481': 1,\n '109071': 4,\n '60686': 8,\n '19452': 1,\n '138472': 15,\n '11069': 3,\n '27172': 3,\n '26608': 3,\n '118510': 0,\n '18252': 1,\n '84449': 0,\n '89303': 15,\n '38801': 21,\n '69080': 2,\n '138945': 4,\n '7250': 4,\n '120512': 2,\n '12379': 4,\n '74589': 9,\n '5559': 2,\n '7407': 3,\n '101097': 4,\n '83068': 2,\n '102081': 2,\n '6729': 0,\n '44156': 4,\n '55061': 3,\n '94104': 4,\n '120323': 4,\n '18243': 1,\n '70839': 3,\n '1826': 1,\n '120341': 4,\n '839': 1,\n '47947': 13,\n '22344': 1,\n '26261': 0,\n '48688': 7,\n '29665': 3,\n '71533': 3,\n '41687': 19,\n '18026': 3,\n '33732': 1,\n '117821': 4,\n '18101': 3,\n '78013': 4,\n '116243': 2,\n '117094': 2,\n '21530': 0,\n '44606': 10,\n '86466': 0,\n '113863': 1,\n '33717': 1,\n '70189': 15,\n '51918': 1,\n '88719': 2,\n '91297': 2,\n '18359': 1,\n '133347': 2,\n '62234': 3,\n '82052': 4,\n '85602': 2,\n '56502': 4,\n '59088': 2,\n '75099': 4,\n '122063': 2,\n '10015': 0,\n '60219': 2,\n '118062': 2,\n '11308': 0,\n '55455': 2,\n '64396': 17,\n '122269': 3,\n '51055': 2,\n '42699': 4,\n '137731': 4,\n '37812': 2,\n '2254': 1,\n '28241': 7,\n '27498': 3,\n '61855': 2,\n '57113': 2,\n '75835': 21,\n '6': 2,\n '106255': 2,\n '91279': 3,\n '92236': 9,\n '47674': 2,\n '108126': 1,\n '31738': 1,\n '24577': 1,\n '12327': 1,\n '83500': 4,\n '117971': 3,\n '70302': 3,\n '97521': 3,\n '137318': 4,\n '32891': 14,\n '4352': 4,\n '7577': 0,\n '69128': 2,\n '126818': 2,\n '1425': 1,\n '11251': 1,\n '109088': 4,\n '49482': 2,\n '104182': 2,\n '68798': 4,\n '104125': 2,\n '12881': 7,\n '62145': 3,\n '30588': 1,\n '5820': 1,\n '139235': 4,\n '92063': 3,\n '110849': 2,\n '17526': 3,\n '136120': 0,\n '109463': 2,\n '77839': 3,\n '95527': 4,\n '81005': 2,\n '113531': 3,\n '94002': 2,\n '14692': 7,\n '30548': 15,\n '101237': 2,\n '102525': 2,\n '113750': 3,\n '121938': 4,\n '135116': 4,\n '26885': 3,\n '35849': 1,\n '70504': 4,\n '126564': 4,\n '58738': 13,\n '51880': 2,\n '63778': 7,\n '6587': 0,\n '12579': 0,\n '67163': 7,\n '1058': 1,\n '33553': 1,\n '83837': 1,\n '123248': 4,\n '11844': 0,\n '132893': 2,\n '133535': 1,\n '9946': 0,\n '64557': 17,\n '110493': 2,\n '130813': 2,\n '1880': 3,\n '3832': 0,\n '136749': 2,\n '41235': 2,\n '15505': 2,\n '14266': 3,\n '37014': 2,\n '82834': 7,\n '11311': 3,\n '103848': 2,\n '102513': 2,\n '70276': 2,\n '119818': 2,\n '12321': 0,\n '38213': 2,\n '59457': 2,\n '1965': 1,\n '75042': 3,\n '125267': 2,\n '63248': 10,\n '112504': 1,\n '126165': 4,\n '108212': 3,\n '48493': 2,\n '8692': 1,\n '121469': 7,\n '127305': 0,\n '64948': 3,\n '131435': 2,\n '4033': 3,\n '69172': 0,\n '70478': 3,\n '124770': 7,\n '35688': 2,\n '139018': 3,\n '39199': 2,\n '23338': 7,\n '8294': 3,\n '12400': 4,\n '619': 2,\n '126488': 1,\n '118161': 0,\n '33198': 14,\n '76854': 3,\n '31717': 0,\n '3969': 1,\n '48988': 1,\n '62266': 3,\n '134792': 2,\n '40788': 2,\n '54942': 2,\n '101356': 7,\n '62191': 2,\n '19962': 1,\n '43361': 1,\n '102518': 2,\n '113575': 7,\n '4770': 1,\n '22510': 18,\n '19428': 7,\n '113485': 2,\n '125831': 1,\n '84320': 3,\n '84239': 17,\n '53314': 20,\n '109958': 13,\n '36977': 2,\n '54018': 3,\n '57248': 3,\n '67328': 7,\n '70594': 3,\n '22763': 0,\n '113866': 4,\n '47087': 2,\n '107016': 0,\n '36535': 2,\n '46161': 15,\n '65101': 4,\n '132583': 4,\n '11481': 15,\n '57950': 4,\n '60685': 8,\n '75866': 3,\n '86750': 2,\n '4281': 2,\n '98987': 2,\n '104932': 2,\n '133682': 4,\n '136384': 3,\n '30980': 15,\n '57094': 2,\n '112241': 15,\n '120240': 4,\n '68280': 2,\n '75210': 9,\n '44318': 2,\n '79463': 4,\n '111352': 0,\n '116421': 4,\n '33267': 3,\n '67742': 3,\n '124430': 4,\n '126788': 3,\n '130440': 4,\n '82299': 2,\n '27212': 3,\n '31715': 2,\n '69099': 3,\n '45954': 13,\n '131683': 4,\n '137035': 2,\n '23201': 7,\n '46560': 3,\n '102357': 4,\n '12623': 0,\n '48485': 0,\n '41216': 2,\n '48572': 2,\n '53194': 3,\n '56016': 7,\n '69458': 2,\n '19525': 1,\n '107735': 2,\n '131400': 4,\n '134111': 2,\n '85217': 2,\n '25120': 1,\n '104187': 2,\n '35099': 2,\n '89940': 3,\n '60026': 4,\n '109121': 3,\n '6371': 2,\n '15663': 1,\n '16018': 7,\n '99734': 4,\n '107662': 4,\n '123882': 0,\n '81736': 3,\n '139381': 4,\n '46224': 15,\n '92693': 4,\n '35951': 2,\n '72590': 4,\n '113931': 2,\n '30542': 15,\n '29848': 6,\n '52727': 2,\n '110762': 3,\n '83621': 4,\n '66875': 3,\n '32595': 7,\n '80211': 13,\n '109982': 4,\n '131256': 4,\n '34921': 1,\n '82310': 2,\n '56351': 9,\n '84820': 2,\n '37622': 8,\n '76761': 7,\n '1434': 0,\n '82974': 7,\n '108081': 4,\n '98295': 0,\n '7878': 5,\n '106088': 0,\n '70374': 7,\n '88897': 2,\n '94958': 2,\n '117460': 2,\n '22166': 7,\n '23948': 18,\n '10811': 0,\n '44854': 10,\n '64028': 1,\n '64538': 17,\n ...}"
     },
     "execution_count": 40,
     "metadata": {},
     "output_type": "execute_result"
    }
   ],
   "source": [
    "partition"
   ],
   "metadata": {
    "collapsed": false,
    "pycharm": {
     "name": "#%%\n"
    }
   }
  },
  {
   "cell_type": "code",
   "execution_count": 9,
   "outputs": [],
   "source": [
    "community_lists = {}\n",
    "for key in partition:\n",
    "    if partition[key] not in community_lists:\n",
    "        community_lists[partition[key]] = []\n",
    "        community_lists[partition[key]].append(key)\n",
    "    else:\n",
    "        community_lists[partition[key]].append(key)"
   ],
   "metadata": {
    "collapsed": false,
    "pycharm": {
     "name": "#%%\n"
    }
   }
  },
  {
   "cell_type": "code",
   "execution_count": 10,
   "outputs": [
    {
     "data": {
      "text/plain": "12"
     },
     "execution_count": 10,
     "metadata": {},
     "output_type": "execute_result"
    }
   ],
   "source": [
    "len(community_lists)"
   ],
   "metadata": {
    "collapsed": false,
    "pycharm": {
     "name": "#%%\n"
    }
   }
  },
  {
   "cell_type": "code",
   "execution_count": 11,
   "outputs": [],
   "source": [
    "community_sizes = {}\n",
    "for key in community_lists:\n",
    "    community_sizes[key] = len(community_lists[key])"
   ],
   "metadata": {
    "collapsed": false,
    "pycharm": {
     "name": "#%%\n"
    }
   }
  },
  {
   "cell_type": "code",
   "execution_count": 12,
   "outputs": [
    {
     "data": {
      "text/plain": "{0: 3136,\n 1: 2196,\n 2: 2471,\n 3: 3191,\n 4: 4827,\n 5: 304,\n 6: 1026,\n 7: 72,\n 9: 141,\n 10: 206,\n 11: 48,\n 8: 26}"
     },
     "execution_count": 12,
     "metadata": {},
     "output_type": "execute_result"
    }
   ],
   "source": [
    "community_sizes"
   ],
   "metadata": {
    "collapsed": false,
    "pycharm": {
     "name": "#%%\n"
    }
   }
  },
  {
   "cell_type": "code",
   "execution_count": 13,
   "outputs": [],
   "source": [
    "community_sizes_list = list(community_sizes.values())"
   ],
   "metadata": {
    "collapsed": false,
    "pycharm": {
     "name": "#%%\n"
    }
   }
  },
  {
   "cell_type": "code",
   "execution_count": 14,
   "outputs": [],
   "source": [
    "community_sizes_list.sort(reverse=True)"
   ],
   "metadata": {
    "collapsed": false,
    "pycharm": {
     "name": "#%%\n"
    }
   }
  },
  {
   "cell_type": "code",
   "execution_count": 15,
   "outputs": [
    {
     "data": {
      "text/plain": "[4827, 3191, 3136, 2471, 2196, 1026, 304, 206, 141, 72, 48, 26]"
     },
     "execution_count": 15,
     "metadata": {},
     "output_type": "execute_result"
    }
   ],
   "source": [
    "community_sizes_list"
   ],
   "metadata": {
    "collapsed": false,
    "pycharm": {
     "name": "#%%\n"
    }
   }
  },
  {
   "cell_type": "code",
   "execution_count": 16,
   "outputs": [],
   "source": [
    "community_ids = range(1, len(community_sizes)+1)"
   ],
   "metadata": {
    "collapsed": false,
    "pycharm": {
     "name": "#%%\n"
    }
   }
  },
  {
   "cell_type": "code",
   "execution_count": 17,
   "outputs": [],
   "source": [
    "df = pd.DataFrame({\"Community id\":community_ids, \"Community size\":community_sizes_list})"
   ],
   "metadata": {
    "collapsed": false,
    "pycharm": {
     "name": "#%%\n"
    }
   }
  },
  {
   "cell_type": "code",
   "execution_count": 26,
   "outputs": [
    {
     "data": {
      "text/plain": "<Figure size 576x396 with 1 Axes>",
      "image/png": "[encoded data removed]"
     },
     "metadata": {},
     "output_type": "display_data"
    }
   ],
   "source": [
    "sns.set_style('whitegrid')\n",
    "ax = sns.scatterplot(data=df, x='Community id', y='Community size', color='green')\n",
    "\n",
    "ax.set(xlim=(-5, 65))\n",
    "# ax.set(ylim=(-0.1, 3.2))\n",
    "# ax.set(xticklabels=['',1,'',10,'',100,'',1000,'',10000])\n",
    "# ax.set(yticklabels=['',1,'',10,'',100,'',1000])\n",
    "sns.set(font_scale = 1.5)\n",
    "\n",
    "# plt.savefig('../plots/community_size_distribution1.pdf', bbox_inches='tight')\n",
    "plt.show()"
   ],
   "metadata": {
    "collapsed": false,
    "pycharm": {
     "name": "#%%\n"
    }
   }
  },
  {
   "cell_type": "code",
   "execution_count": 27,
   "outputs": [],
   "source": [
    "user_communities_interactions_dict = {}\n",
    "for userId in user_items_dict:\n",
    "    if userId not in user_communities_interactions_dict:\n",
    "        user_communities_interactions_dict[userId] = [0] * len(community_lists)\n",
    "    for itemId in user_items_dict[userId]:\n",
    "        user_communities_interactions_dict[userId][partition[itemId]] += 1"
   ],
   "metadata": {
    "collapsed": false,
    "pycharm": {
     "name": "#%%\n"
    }
   }
  },
  {
   "cell_type": "code",
   "execution_count": 28,
   "outputs": [
    {
     "ename": "KeyError",
     "evalue": "'1'",
     "output_type": "error",
     "traceback": [
      "\u001B[0;31m---------------------------------------------------------------------------\u001B[0m",
      "\u001B[0;31mKeyError\u001B[0m                                  Traceback (most recent call last)",
      "\u001B[0;32m<ipython-input-28-f6ba31cec462>\u001B[0m in \u001B[0;36m<module>\u001B[0;34m\u001B[0m\n\u001B[0;32m----> 1\u001B[0;31m \u001B[0mx\u001B[0m \u001B[0;34m=\u001B[0m \u001B[0mnp\u001B[0m\u001B[0;34m.\u001B[0m\u001B[0marray\u001B[0m\u001B[0;34m(\u001B[0m\u001B[0muser_communities_interactions_dict\u001B[0m\u001B[0;34m[\u001B[0m\u001B[0;34m'1'\u001B[0m\u001B[0;34m]\u001B[0m\u001B[0;34m)\u001B[0m\u001B[0;34m\u001B[0m\u001B[0;34m\u001B[0m\u001B[0m\n\u001B[0m\u001B[1;32m      2\u001B[0m \u001B[0mx\u001B[0m\u001B[0;34m\u001B[0m\u001B[0;34m\u001B[0m\u001B[0m\n",
      "\u001B[0;31mKeyError\u001B[0m: '1'"
     ]
    }
   ],
   "source": [
    "x = np.array(user_communities_interactions_dict['1'])\n",
    "x"
   ],
   "metadata": {
    "collapsed": false,
    "pycharm": {
     "name": "#%%\n"
    }
   }
  },
  {
   "cell_type": "code",
   "execution_count": 25,
   "outputs": [
    {
     "ename": "NameError",
     "evalue": "name 'x' is not defined",
     "output_type": "error",
     "traceback": [
      "\u001B[0;31m---------------------------------------------------------------------------\u001B[0m",
      "\u001B[0;31mNameError\u001B[0m                                 Traceback (most recent call last)",
      "\u001B[0;32m<ipython-input-25-88a74b734215>\u001B[0m in \u001B[0;36m<module>\u001B[0;34m\u001B[0m\n\u001B[0;32m----> 1\u001B[0;31m \u001B[0mnp\u001B[0m\u001B[0;34m.\u001B[0m\u001B[0msum\u001B[0m\u001B[0;34m(\u001B[0m\u001B[0mx\u001B[0m\u001B[0;34m/\u001B[0m\u001B[0mnp\u001B[0m\u001B[0;34m.\u001B[0m\u001B[0mmax\u001B[0m\u001B[0;34m(\u001B[0m\u001B[0mx\u001B[0m\u001B[0;34m)\u001B[0m\u001B[0;34m)\u001B[0m\u001B[0;34m/\u001B[0m\u001B[0mx\u001B[0m\u001B[0;34m.\u001B[0m\u001B[0mshape\u001B[0m\u001B[0;34m[\u001B[0m\u001B[0;36m0\u001B[0m\u001B[0;34m]\u001B[0m\u001B[0;34m\u001B[0m\u001B[0;34m\u001B[0m\u001B[0m\n\u001B[0m",
      "\u001B[0;31mNameError\u001B[0m: name 'x' is not defined"
     ]
    }
   ],
   "source": [
    "np.sum(x/np.max(x))/x.shape[0]"
   ],
   "metadata": {
    "collapsed": false,
    "pycharm": {
     "name": "#%%\n"
    }
   }
  },
  {
   "cell_type": "code",
   "execution_count": 29,
   "outputs": [],
   "source": [
    "user_diversities = {}\n",
    "for userId in user_communities_interactions_dict:\n",
    "    user_community_vector = np.array(user_communities_interactions_dict[userId])\n",
    "    user_diversities[userId] = np.sum(user_community_vector/np.max(user_community_vector))/user_community_vector.shape[0]"
   ],
   "metadata": {
    "collapsed": false,
    "pycharm": {
     "name": "#%%\n"
    }
   }
  },
  {
   "cell_type": "code",
   "execution_count": 30,
   "outputs": [],
   "source": [
    "x = np.array(user_diversities.values())"
   ],
   "metadata": {
    "collapsed": false,
    "pycharm": {
     "name": "#%%\n"
    }
   }
  },
  {
   "cell_type": "code",
   "execution_count": 31,
   "outputs": [],
   "source": [
    "user_diversities_filtered = {}\n",
    "for userId in user_diversities:\n",
    "    if user_diversities[userId] > 0 and user_diversities[userId] <=1:\n",
    "        user_diversities_filtered[userId] = user_diversities[userId]"
   ],
   "metadata": {
    "collapsed": false,
    "pycharm": {
     "name": "#%%\n"
    }
   }
  },
  {
   "cell_type": "code",
   "execution_count": 32,
   "outputs": [],
   "source": [
    "user_diversities_df = pd.DataFrame({'userId':list(user_diversities_filtered.keys()), 'diversity':list(user_diversities_filtered.values())})"
   ],
   "metadata": {
    "collapsed": false,
    "pycharm": {
     "name": "#%%\n"
    }
   }
  },
  {
   "cell_type": "code",
   "execution_count": 33,
   "outputs": [
    {
     "data": {
      "text/plain": "     userId  diversity\n0         2   0.189394\n1         3   0.148810\n2         4   0.231481\n3         5   0.160256\n4         6   0.208333\n...     ...        ...\n1887   2095   0.092593\n1888   2096   0.109649\n1889   2097   0.115741\n1890   2099   0.088652\n1891   2100   0.094697\n\n[1892 rows x 2 columns]",
      "text/html": "<div>\n<style scoped>\n    .dataframe tbody tr th:only-of-type {\n        vertical-align: middle;\n    }\n\n    .dataframe tbody tr th {\n        vertical-align: top;\n    }\n\n    .dataframe thead th {\n        text-align: right;\n    }\n</style>\n<table border=\"1\" class=\"dataframe\">\n  <thead>\n    <tr style=\"text-align: right;\">\n      <th></th>\n      <th>userId</th>\n      <th>diversity</th>\n    </tr>\n  </thead>\n  <tbody>\n    <tr>\n      <td>0</td>\n      <td>2</td>\n      <td>0.189394</td>\n    </tr>\n    <tr>\n      <td>1</td>\n      <td>3</td>\n      <td>0.148810</td>\n    </tr>\n    <tr>\n      <td>2</td>\n      <td>4</td>\n      <td>0.231481</td>\n    </tr>\n    <tr>\n      <td>3</td>\n      <td>5</td>\n      <td>0.160256</td>\n    </tr>\n    <tr>\n      <td>4</td>\n      <td>6</td>\n      <td>0.208333</td>\n    </tr>\n    <tr>\n      <td>...</td>\n      <td>...</td>\n      <td>...</td>\n    </tr>\n    <tr>\n      <td>1887</td>\n      <td>2095</td>\n      <td>0.092593</td>\n    </tr>\n    <tr>\n      <td>1888</td>\n      <td>2096</td>\n      <td>0.109649</td>\n    </tr>\n    <tr>\n      <td>1889</td>\n      <td>2097</td>\n      <td>0.115741</td>\n    </tr>\n    <tr>\n      <td>1890</td>\n      <td>2099</td>\n      <td>0.088652</td>\n    </tr>\n    <tr>\n      <td>1891</td>\n      <td>2100</td>\n      <td>0.094697</td>\n    </tr>\n  </tbody>\n</table>\n<p>1892 rows × 2 columns</p>\n</div>"
     },
     "execution_count": 33,
     "metadata": {},
     "output_type": "execute_result"
    }
   ],
   "source": [
    "user_diversities_df"
   ],
   "metadata": {
    "collapsed": false,
    "pycharm": {
     "name": "#%%\n"
    }
   }
  },
  {
   "cell_type": "code",
   "execution_count": 34,
   "outputs": [
    {
     "data": {
      "text/plain": "<seaborn.axisgrid.FacetGrid at 0x7f67a056d160>"
     },
     "execution_count": 34,
     "metadata": {},
     "output_type": "execute_result"
    },
    {
     "data": {
      "text/plain": "<Figure size 360x360 with 1 Axes>",
      "image/png": "[encoded data removed]"
     },
     "metadata": {},
     "output_type": "display_data"
    }
   ],
   "source": [
    "sns.displot(user_diversities_df, x=\"diversity\", bins=50)"
   ],
   "metadata": {
    "collapsed": false,
    "pycharm": {
     "name": "#%%\n"
    }
   }
  },
  {
   "cell_type": "code",
   "execution_count": 35,
   "outputs": [],
   "source": [
    "source_diversities = []\n",
    "target_diversities = []\n",
    "lastfm_social_filename = '../data/lastfm/processed/social_connections.tsv'\n",
    "with open(lastfm_social_filename) as fr:\n",
    "        for line in fr.readlines():\n",
    "            tokens = line.split()\n",
    "            source_user = tokens[0]\n",
    "            target_user = tokens[1]\n",
    "            if source_user in user_diversities_filtered and target_user in user_diversities_filtered:\n",
    "                source_diversities.append(user_diversities_filtered[source_user])\n",
    "                target_diversities.append(user_diversities_filtered[target_user])"
   ],
   "metadata": {
    "collapsed": false,
    "pycharm": {
     "name": "#%%\n"
    }
   }
  },
  {
   "cell_type": "code",
   "execution_count": 36,
   "outputs": [],
   "source": [
    "source_diversities = np.array(source_diversities)\n",
    "target_diversities = np.array(target_diversities)"
   ],
   "metadata": {
    "collapsed": false,
    "pycharm": {
     "name": "#%%\n"
    }
   }
  },
  {
   "cell_type": "code",
   "execution_count": 37,
   "outputs": [
    {
     "data": {
      "text/plain": "0.1823131644497978"
     },
     "execution_count": 37,
     "metadata": {},
     "output_type": "execute_result"
    }
   ],
   "source": [
    "from scipy.stats.stats import pearsonr\n",
    "pearsonr(source_diversities, target_diversities)[0]"
   ],
   "metadata": {
    "collapsed": false,
    "pycharm": {
     "name": "#%%\n"
    }
   }
  },
  {
   "cell_type": "code",
   "execution_count": null,
   "outputs": [],
   "source": [],
   "metadata": {
    "collapsed": false,
    "pycharm": {
     "name": "#%%\n"
    }
   }
  }
 ],
 "metadata": {
  "kernelspec": {
   "display_name": "Python 3",
   "language": "python",
   "name": "python3"
  },
  "language_info": {
   "codemirror_mode": {
    "name": "ipython",
    "version": 2
   },
   "file_extension": ".py",
   "mimetype": "text/x-python",
   "name": "python",
   "nbconvert_exporter": "python",
   "pygments_lexer": "ipython2",
   "version": "2.7.6"
  }
 },
 "nbformat": 4,
 "nbformat_minor": 0
}