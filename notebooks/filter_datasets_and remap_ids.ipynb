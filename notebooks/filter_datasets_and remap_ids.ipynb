{
 "cells": [
  {
   "cell_type": "code",
   "execution_count": 2,
   "metadata": {
    "collapsed": true
   },
   "outputs": [],
   "source": [
    "import os\n",
    "import networkx as nx\n",
    "from tqdm import tqdm"
   ]
  },
  {
   "cell_type": "code",
   "execution_count": 3,
   "outputs": [
    {
     "data": {
      "text/plain": "'/mnt/c/Users/tduri/Development/workspace/GraphRec-WWW19-myfork/GraphRec-WWW19/notebooks'"
     },
     "execution_count": 3,
     "metadata": {},
     "output_type": "execute_result"
    }
   ],
   "source": [
    "os.getcwd()"
   ],
   "metadata": {
    "collapsed": false,
    "pycharm": {
     "name": "#%%\n"
    }
   }
  },
  {
   "cell_type": "code",
   "execution_count": 18,
   "outputs": [],
   "source": [
    "def create_ratings_map(filename):\n",
    "    ratings = set()\n",
    "    ratings_map = {}\n",
    "    id_counter = 0\n",
    "\n",
    "    with open(filename) as fr:\n",
    "        for line in fr.readlines():\n",
    "            tokens = line.split()\n",
    "            rating = float(tokens[2])\n",
    "            ratings.add(rating)\n",
    "\n",
    "    ratings = list(ratings)\n",
    "    ratings.sort()\n",
    "\n",
    "    for rating in ratings:\n",
    "        if rating not in ratings_map:\n",
    "            ratings_map[rating] = id_counter\n",
    "            id_counter += 1\n",
    "\n",
    "    return ratings_map\n",
    "\n",
    "def get_users_and_items_from_ratings_file(filename, ratings_map):\n",
    "    users = set()\n",
    "    items = set()\n",
    "    user_items_dict = {}\n",
    "    item_users_dict = {}\n",
    "    user_item_ratings = {}\n",
    "    with open(filename) as fr:\n",
    "        for line in fr.readlines():\n",
    "            tokens = line.split()\n",
    "            user_id = int(tokens[0])\n",
    "            item_id = int(tokens[1])\n",
    "            rating = ratings_map[float(tokens[2])]\n",
    "            if len(tokens) == 4:\n",
    "                timestamp = int(tokens[3])\n",
    "\n",
    "            users.add(user_id)\n",
    "            items.add(item_id)\n",
    "            if len(tokens) == 4:\n",
    "                user_item_ratings[(user_id, item_id)] = (rating, timestamp)\n",
    "            else:\n",
    "                user_item_ratings[(user_id, item_id)] = rating\n",
    "            if user_id not in user_items_dict:\n",
    "                user_items_dict[user_id] = []\n",
    "                user_items_dict[user_id].append(item_id)\n",
    "            else:\n",
    "                user_items_dict[user_id].append(item_id)\n",
    "\n",
    "            if item_id not in item_users_dict:\n",
    "                item_users_dict[item_id] = []\n",
    "                item_users_dict[item_id].append(user_id)\n",
    "            else:\n",
    "                item_users_dict[item_id].append(user_id)\n",
    "    return list(users), list(items), user_items_dict, item_users_dict, user_item_ratings\n",
    "\n",
    "def get_users_from_social_adj_file(filename):\n",
    "    users = set()\n",
    "    edges = []\n",
    "    with open(filename) as fr:\n",
    "        for line in fr.readlines():\n",
    "            tokens = line.split()\n",
    "            user_1 = int(tokens[0])\n",
    "            user_2 = int(tokens[1])\n",
    "            # For now we omit the weight\n",
    "            # rating = float(tokens[2])\n",
    "\n",
    "            users.add(user_1)\n",
    "            users.add(user_2)\n",
    "\n",
    "            edges.append((user_1, user_2))\n",
    "\n",
    "    return list(users), edges\n",
    "\n",
    "def filter_and_remap_dataset(user_items_dict_full, user_item_ratings, users_social, edges_social, num_ratings_threshold):\n",
    "    filtered_users_social = set()\n",
    "    filtered_users_social_gcc = set()\n",
    "    filtered_edges_social = set()\n",
    "    filtered_edges_social_gcc = set()\n",
    "    print('Filtering edges...')\n",
    "\n",
    "    G = nx.Graph()\n",
    "    for (user_1, user_2) in tqdm(edges_social):\n",
    "        if user_1 not in user_items_dict_full or user_2 not in user_items_dict_full:\n",
    "            continue\n",
    "        if len(user_items_dict_full[user_1]) > num_ratings_threshold and len(user_items_dict_full[user_2]) > num_ratings_threshold:\n",
    "            filtered_users_social.add(user_1)\n",
    "            filtered_users_social.add(user_2)\n",
    "            filtered_edges_social.add((user_1, user_2))\n",
    "            G.add_edge(user_1, user_2)\n",
    "\n",
    "    Gcc = sorted(nx.connected_components(G), key=len, reverse=True)\n",
    "    G0 = G.subgraph(Gcc[0])\n",
    "\n",
    "    print('Filtering edges in giant connected component...')\n",
    "    for (user_1, user_2) in tqdm(filtered_edges_social):\n",
    "        if user_1 in G0.nodes() and user_2 in G0.nodes():\n",
    "            filtered_users_social_gcc.add(user_1)\n",
    "            filtered_users_social_gcc.add(user_2)\n",
    "            filtered_edges_social_gcc.add((user_1, user_2))\n",
    "\n",
    "    filtered_user_items_dict_full = {}\n",
    "    filtered_item_users_dict_full = {}\n",
    "    filtered_user_item_ratings = {}\n",
    "\n",
    "    remapped_filtered_user_items_dict_full = {}\n",
    "    remapped_filtered_item_users_dict_full = {}\n",
    "    remapped_filtered_user_item_ratings = {}\n",
    "\n",
    "    user_id_mappings = {}\n",
    "    item_id_mappings = {}\n",
    "\n",
    "    user_id_counter = 0\n",
    "    item_id_counter = 0\n",
    "\n",
    "    print('Filtering ratings...')\n",
    "    for user_id in tqdm(user_items_dict_full):\n",
    "        # User is part of the dataset if it has more than threshold ratings and has social connections\n",
    "        if len(user_items_dict_full[user_id]) > num_ratings_threshold and (user_id in filtered_users_social_gcc):\n",
    "            if user_id not in user_id_mappings:\n",
    "                user_id_mappings[user_id] = user_id_counter\n",
    "                user_id_counter += 1\n",
    "            user_id_remapped = user_id_mappings[user_id]\n",
    "\n",
    "            filtered_user_items_dict_full[user_id] = []\n",
    "            remapped_filtered_user_items_dict_full[user_id_remapped] = []\n",
    "\n",
    "            for item_id in user_items_dict_full[user_id]:\n",
    "                if item_id not in item_id_mappings:\n",
    "                    item_id_mappings[item_id] = item_id_counter\n",
    "                    item_id_counter += 1\n",
    "                item_id_remapped = item_id_mappings[item_id]\n",
    "\n",
    "                if item_id not in filtered_item_users_dict_full:\n",
    "                    filtered_item_users_dict_full[item_id] = []\n",
    "                    remapped_filtered_item_users_dict_full[item_id_remapped] = []\n",
    "\n",
    "                filtered_user_items_dict_full[user_id].append(item_id)\n",
    "                filtered_item_users_dict_full[item_id].append(user_id)\n",
    "                filtered_user_item_ratings[(user_id, item_id)] = user_item_ratings[(user_id, item_id)]\n",
    "\n",
    "                remapped_filtered_user_items_dict_full[user_id_remapped].append(item_id_remapped)\n",
    "                remapped_filtered_item_users_dict_full[item_id_remapped].append(user_id_remapped)\n",
    "                remapped_filtered_user_item_ratings[(user_id_remapped, item_id_remapped)] = user_item_ratings[(user_id, item_id)]\n",
    "\n",
    "    remapped_filtered_nodes_social = set()\n",
    "    remapped_filtered_edges_social = set()\n",
    "\n",
    "    print('Remapping filtered edges...')\n",
    "    for (user_1, user_2) in tqdm(filtered_edges_social_gcc):\n",
    "        if user_1 not in user_id_mappings or user_2 not in user_id_mappings:\n",
    "            continue\n",
    "        remapped_filtered_edges_social.add((user_id_mappings[user_1], user_id_mappings[user_2]))\n",
    "        remapped_filtered_edges_social.add((user_id_mappings[user_2], user_id_mappings[user_1]))\n",
    "\n",
    "        remapped_filtered_nodes_social.add(user_id_mappings[user_1])\n",
    "        remapped_filtered_nodes_social.add(user_id_mappings[user_2])\n",
    "\n",
    "    return filtered_user_items_dict_full, \\\n",
    "           filtered_item_users_dict_full, \\\n",
    "           filtered_user_item_ratings, \\\n",
    "           remapped_filtered_user_items_dict_full, \\\n",
    "           remapped_filtered_item_users_dict_full, \\\n",
    "           remapped_filtered_user_item_ratings, \\\n",
    "           remapped_filtered_nodes_social, \\\n",
    "           remapped_filtered_edges_social, \\\n",
    "           user_id_mappings, \\\n",
    "           item_id_mappings"
   ],
   "metadata": {
    "collapsed": false,
    "pycharm": {
     "name": "#%%\n"
    }
   }
  },
  {
   "cell_type": "code",
   "execution_count": 20,
   "outputs": [
    {
     "name": "stdout",
     "output_type": "stream",
     "text": [
      "toy_dataset\n",
      "======================================\n",
      "Filtering edges...\n"
     ]
    },
    {
     "name": "stderr",
     "output_type": "stream",
     "text": [
      "100%|███████████████████████████████████████████████████████████████████████████████████████████████████████████████████████████████████████████████████████████████████████████████████████████████████████████████████████████████████████████████████████████████████████████████████████████████████████████████████████████████████████████████████████████████| 2252/2252 [00:00<00:00, 411249.24it/s]\n"
     ]
    },
    {
     "name": "stdout",
     "output_type": "stream",
     "text": [
      "Filtering edges in giant connected component...\n"
     ]
    },
    {
     "name": "stderr",
     "output_type": "stream",
     "text": [
      "100%|███████████████████████████████████████████████████████████████████████████████████████████████████████████████████████████████████████████████████████████████████████████████████████████████████████████████████████████████████████████████████████████████████████████████████████████████████████████████████████████████████████████████████████████████| 2004/2004 [00:00<00:00, 539914.26it/s]\n"
     ]
    },
    {
     "name": "stdout",
     "output_type": "stream",
     "text": [
      "Filtering ratings...\n"
     ]
    },
    {
     "name": "stderr",
     "output_type": "stream",
     "text": [
      "100%|██████████████████████████████████████████████████████████████████████████████████████████████████████████████████████████████████████████████████████████████████████████████████████████████████████████████████████████████████████████████████████████████████████████████████████████████████████████████████████████████████████████████████████████████████| 705/705 [00:00<00:00, 57993.73it/s]\n"
     ]
    },
    {
     "name": "stdout",
     "output_type": "stream",
     "text": [
      "Remapping filtered edges...\n"
     ]
    },
    {
     "name": "stderr",
     "output_type": "stream",
     "text": [
      "100%|██████████████████████████████████████████████████████████████████████████████████████████████████████████████████████████████████████████████████████████████████████████████████████████████████████████████████████████████████████████████████████████████████████████████████████████████████████████████████████████████████████████████████████████████| 1784/1784 [00:00<00:00, 1058963.82it/s]\n"
     ]
    },
    {
     "name": "stdout",
     "output_type": "stream",
     "text": [
      "epinions\n",
      "======================================\n",
      "Filtering edges...\n"
     ]
    },
    {
     "name": "stderr",
     "output_type": "stream",
     "text": [
      "100%|███████████████████████████████████████████████████████████████████████████████████████████████████████████████████████████████████████████████████████████████████████████████████████████████████████████████████████████████████████████████████████████████████████████████████████████████████████████████████████████████████████████████████████████| 487182/487182 [00:01<00:00, 369108.96it/s]\n"
     ]
    },
    {
     "name": "stdout",
     "output_type": "stream",
     "text": [
      "Filtering edges in giant connected component...\n"
     ]
    },
    {
     "name": "stderr",
     "output_type": "stream",
     "text": [
      "100%|███████████████████████████████████████████████████████████████████████████████████████████████████████████████████████████████████████████████████████████████████████████████████████████████████████████████████████████████████████████████████████████████████████████████████████████████████████████████████████████████████████████████████████████| 399968/399968 [00:01<00:00, 339826.34it/s]\n"
     ]
    },
    {
     "name": "stdout",
     "output_type": "stream",
     "text": [
      "Filtering ratings...\n"
     ]
    },
    {
     "name": "stderr",
     "output_type": "stream",
     "text": [
      "100%|██████████████████████████████████████████████████████████████████████████████████████████████████████████████████████████████████████████████████████████████████████████████████████████████████████████████████████████████████████████████████████████████████████████████████████████████████████████████████████████████████████████████████████████████| 40163/40163 [00:02<00:00, 17669.71it/s]\n"
     ]
    },
    {
     "name": "stdout",
     "output_type": "stream",
     "text": [
      "Remapping filtered edges...\n"
     ]
    },
    {
     "name": "stderr",
     "output_type": "stream",
     "text": [
      "100%|███████████████████████████████████████████████████████████████████████████████████████████████████████████████████████████████████████████████████████████████████████████████████████████████████████████████████████████████████████████████████████████████████████████████████████████████████████████████████████████████████████████████████████████| 399896/399896 [00:00<00:00, 617194.31it/s]\n"
     ]
    },
    {
     "name": "stdout",
     "output_type": "stream",
     "text": [
      "ciao\n",
      "======================================\n",
      "Filtering edges...\n"
     ]
    },
    {
     "name": "stderr",
     "output_type": "stream",
     "text": [
      "100%|████████████████████████████████████████████████████████████████████████████████████████████████████████████████████████████████████████████████████████████████████████████████████████████████████████████████████████████████████████████████████████████████████████████████████████████████████████████████████████████████████████████████████████████| 40133/40133 [00:00<00:00, 1134245.71it/s]\n"
     ]
    },
    {
     "name": "stdout",
     "output_type": "stream",
     "text": [
      "Filtering edges in giant connected component...\n"
     ]
    },
    {
     "name": "stderr",
     "output_type": "stream",
     "text": [
      "100%|█████████████████████████████████████████████████████████████████████████████████████████████████████████████████████████████████████████████████████████████████████████████████████████████████████████████████████████████████████████████████████████████████████████████████████████████████████████████████████████████████████████████████████████████| 12883/12883 [00:00<00:00, 518587.08it/s]\n"
     ]
    },
    {
     "name": "stdout",
     "output_type": "stream",
     "text": [
      "Filtering ratings...\n"
     ]
    },
    {
     "name": "stderr",
     "output_type": "stream",
     "text": [
      "100%|█████████████████████████████████████████████████████████████████████████████████████████████████████████████████████████████████████████████████████████████████████████████████████████████████████████████████████████████████████████████████████████████████████████████████████████████████████████████████████████████████████████████████████████████| 17615/17615 [00:00<00:00, 237409.87it/s]\n"
     ]
    },
    {
     "name": "stdout",
     "output_type": "stream",
     "text": [
      "Remapping filtered edges...\n"
     ]
    },
    {
     "name": "stderr",
     "output_type": "stream",
     "text": [
      "100%|█████████████████████████████████████████████████████████████████████████████████████████████████████████████████████████████████████████████████████████████████████████████████████████████████████████████████████████████████████████████████████████████████████████████████████████████████████████████████████████████████████████████████████████████| 12873/12873 [00:00<00:00, 961692.71it/s]\n"
     ]
    }
   ],
   "source": [
    "num_ratings_threshold = 2\n",
    "dataset_names =['toy_dataset', 'epinions', 'ciao']\n",
    "\n",
    "for dataset_name in dataset_names:\n",
    "    print(dataset_name)\n",
    "    print('======================================')\n",
    "    ratings_map = create_ratings_map('../data/' + dataset_name + '/ratings.tsv')\n",
    "    # users_train, items_train, user_items_dict_train, item_users_dict_train, users_items_ratings_train = get_users_and_items_from_ratings_file('../data/' + dataset_name + '/train.tsv', ratings_map)\n",
    "    # users_test, items_test, user_items_dict_test, item_users_dict_test, users_items_ratings_test = get_users_and_items_from_ratings_file('../data/' + dataset_name + '/test.tsv', ratings_map)\n",
    "    users_full, items_full, user_items_dict_full, item_users_dict_full, users_items_ratings_full = get_users_and_items_from_ratings_file('../data/' + dataset_name + '/ratings.tsv', ratings_map)\n",
    "    users_social, edges_social = get_users_from_social_adj_file('../data/' + dataset_name + '/social_connections.tsv')\n",
    "\n",
    "    filtered_user_items_dict_full, \\\n",
    "    filtered_item_users_dict_full, \\\n",
    "    filtered_user_item_ratings, \\\n",
    "    remapped_filtered_user_items_dict_full, \\\n",
    "    remapped_filtered_item_users_dict_full, \\\n",
    "    remapped_filtered_user_item_ratings, \\\n",
    "    remapped_filtered_nodes_social, \\\n",
    "    remapped_filtered_edges_social, \\\n",
    "    user_id_mappings, \\\n",
    "    item_id_mappings = filter_and_remap_dataset(user_items_dict_full, users_items_ratings_full, users_social, edges_social, num_ratings_threshold)\n",
    "\n",
    "    with open('../data/' + dataset_name + '/filtered_social_connections.tsv', 'w') as the_file:\n",
    "       for social_edge in remapped_filtered_edges_social:\n",
    "           the_file.write(f'{social_edge[0]}\\t{social_edge[1]}\\t1\\n')\n",
    "\n",
    "    with open('../data/' + dataset_name + '/filtered_ratings.tsv', 'w') as the_file:\n",
    "       for (remapped_user_id, remapped_item_id) in remapped_filtered_user_item_ratings:\n",
    "           value = remapped_filtered_user_item_ratings[(remapped_user_id, remapped_item_id)]\n",
    "           if type(value) == tuple:\n",
    "               the_file.write(f'{remapped_user_id}\\t{remapped_item_id}\\t{value[0]}\\t{value[1]}\\n')\n",
    "           else:\n",
    "               the_file.write(f'{remapped_user_id}\\t{remapped_item_id}\\t{value}\\n')"
   ],
   "metadata": {
    "collapsed": false,
    "pycharm": {
     "name": "#%%\n"
    }
   }
  },
  {
   "cell_type": "code",
   "execution_count": 7,
   "outputs": [
    {
     "data": {
      "text/plain": "0.0"
     },
     "execution_count": 7,
     "metadata": {},
     "output_type": "execute_result"
    }
   ],
   "source": [
    "remapped_filtered_user_item_ratings[(0, 0)]"
   ],
   "metadata": {
    "collapsed": false,
    "pycharm": {
     "name": "#%%\n"
    }
   }
  },
  {
   "cell_type": "code",
   "execution_count": 27,
   "outputs": [
    {
     "name": "stdout",
     "output_type": "stream",
     "text": [
      "40163\n",
      "139738\n",
      "664823\n",
      "49287\n",
      "487182\n",
      "\n",
      "\n",
      "27202\n",
      "137536\n",
      "638067\n",
      "\n",
      "\n",
      "27202\n",
      "137536\n",
      "638067\n",
      "27202\n",
      "799792\n",
      "\n",
      "\n",
      "27202\n",
      "137536\n"
     ]
    }
   ],
   "source": [
    "print(len(users_full))\n",
    "print(len(items_full))\n",
    "print(len(users_items_ratings_full))\n",
    "print(len(users_social))\n",
    "print(len(edges_social))\n",
    "print('\\n')\n",
    "print(len(filtered_user_items_dict_full))\n",
    "print(len(filtered_item_users_dict_full))\n",
    "print(len(filtered_user_item_ratings))\n",
    "print('\\n')\n",
    "print(len(remapped_filtered_user_items_dict_full))\n",
    "print(len(remapped_filtered_item_users_dict_full))\n",
    "print(len(remapped_filtered_user_item_ratings))\n",
    "print(len(remapped_filtered_nodes_social))\n",
    "print(len(remapped_filtered_edges_social))\n",
    "print('\\n')\n",
    "print(len(user_id_mappings))\n",
    "print(len(item_id_mappings))"
   ],
   "metadata": {
    "collapsed": false,
    "pycharm": {
     "name": "#%%\n"
    }
   }
  },
  {
   "cell_type": "code",
   "execution_count": 28,
   "outputs": [
    {
     "name": "stdout",
     "output_type": "stream",
     "text": [
      "27202\n"
     ]
    },
    {
     "data": {
      "text/plain": "27202"
     },
     "execution_count": 28,
     "metadata": {},
     "output_type": "execute_result"
    }
   ],
   "source": [
    "G = nx.Graph()\n",
    "for edge in remapped_filtered_edges_social:\n",
    "    G.add_edge(edge[0], edge[1])\n",
    "nx.number_connected_components(G)\n",
    "for component in nx.connected_components(G):\n",
    "    print(len(component))\n",
    "\n",
    "Gcc = sorted(nx.connected_components(G), key=len, reverse=True)\n",
    "G0 = G.subgraph(Gcc[0])"
   ],
   "metadata": {
    "collapsed": false,
    "pycharm": {
     "name": "#%%\n"
    }
   }
  },
  {
   "cell_type": "code",
   "execution_count": 12,
   "outputs": [
    {
     "name": "stdout",
     "output_type": "stream",
     "text": [
      "49287\n"
     ]
    }
   ],
   "source": [
    "G = nx.Graph()\n",
    "for edge in edges_social:\n",
    "    G.add_edge(edge[0], edge[1])\n",
    "nx.number_connected_components(G)\n",
    "for component in nx.connected_components(G):\n",
    "    print(len(component))"
   ],
   "metadata": {
    "collapsed": false,
    "pycharm": {
     "name": "#%%\n"
    }
   }
  },
  {
   "cell_type": "code",
   "execution_count": 19,
   "outputs": [
    {
     "data": {
      "text/plain": "137536"
     },
     "execution_count": 19,
     "metadata": {},
     "output_type": "execute_result"
    }
   ],
   "source": [
    "len(item_id_mappings)"
   ],
   "metadata": {
    "collapsed": false,
    "pycharm": {
     "name": "#%%\n"
    }
   }
  },
  {
   "cell_type": "code",
   "execution_count": null,
   "outputs": [],
   "source": [
    "G0"
   ],
   "metadata": {
    "collapsed": false,
    "pycharm": {
     "name": "#%%\n"
    }
   }
  }
 ],
 "metadata": {
  "kernelspec": {
   "display_name": "Python 3",
   "language": "python",
   "name": "python3"
  },
  "language_info": {
   "codemirror_mode": {
    "name": "ipython",
    "version": 2
   },
   "file_extension": ".py",
   "mimetype": "text/x-python",
   "name": "python",
   "nbconvert_exporter": "python",
   "pygments_lexer": "ipython2",
   "version": "2.7.6"
  }
 },
 "nbformat": 4,
 "nbformat_minor": 0
}